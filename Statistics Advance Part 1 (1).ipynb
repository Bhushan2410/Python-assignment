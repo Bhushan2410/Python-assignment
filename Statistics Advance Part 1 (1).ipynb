{
 "cells": [
  {
   "cell_type": "markdown",
   "id": "8423d6f1-92b7-4685-a2f1-7227576a82b9",
   "metadata": {},
   "source": [
    "1.What is a random variable in probability theory?\n",
    "\n",
    "A random variable is a function that assigns numerical values to outcomes in a sample space."
   ]
  },
  {
   "cell_type": "markdown",
   "id": "4d806bc0-ca17-4045-87af-6d741a093a31",
   "metadata": {},
   "source": [
    "2.What are the types of random variables?\n",
    "\n",
    "There are two types: Discrete (countable values) and Continuous (any value within a range)."
   ]
  },
  {
   "cell_type": "markdown",
   "id": "53625742-dcaa-4ba1-95c9-77ffce145e19",
   "metadata": {},
   "source": [
    "3.What is the difference between discrete and continuous distributions?\n",
    "Discrete distributions describe countable outcomes, while continuous distributions represent values in a continuous range."
   ]
  },
  {
   "cell_type": "markdown",
   "id": "3f1af3db-1a83-4576-b678-dba47b60b65b",
   "metadata": {},
   "source": [
    "4.What are probability distribution functions (PDFs)?\n",
    "\n",
    "PDFs describe the likelihood of different outcomes for a random variable."
   ]
  },
  {
   "cell_type": "markdown",
   "id": "2da9874c-3382-45cb-a392-b98b8ccb9fc4",
   "metadata": {},
   "source": [
    "5.How do cumulative distribution functions (CDFs) differ from PDFs?\n",
    "\n",
    "The CDF gives the probability that a random variable is less than or equal to a certain value, while the PDF shows probability density"
   ]
  },
  {
   "cell_type": "markdown",
   "id": "53ccbcff-bea5-4655-9269-60bf84701bc4",
   "metadata": {},
   "source": [
    "6.What is a discrete uniform distribution?\n",
    "\n",
    "A discrete uniform distribution assigns equal probability to all possible discrete outcomes."
   ]
  },
  {
   "cell_type": "markdown",
   "id": "a5f593e8-d7a2-44a5-be9d-ca4a6c0ecb24",
   "metadata": {},
   "source": [
    "7.What are the key properties of a Bernoulli distribution?\n",
    "\n",
    "A Bernoulli distribution has two possible outcomes (success or failure) with probability \n",
    "𝑝p for success and 1−𝑝1−p for failure."
   ]
  },
  {
   "cell_type": "markdown",
   "id": "71213d33-4327-4b67-b568-acd620e43038",
   "metadata": {},
   "source": [
    "8.What is the binomial distribution, and how is it used in probability?\n",
    "The binomial distribution models the number of successes in \n",
    "𝑛\n",
    "n independent Bernoulli trials with success probability \n",
    "𝑝\n",
    "p."
   ]
  },
  {
   "cell_type": "markdown",
   "id": "195e939a-e231-481a-80ca-8867d83d1116",
   "metadata": {},
   "source": [
    "9.What is the Poisson distribution and where is it applied?\n",
    "\n",
    "The Poisson distribution models the number of events occurring in a fixed interval, given a constant average rate. It is used in queuing theory and reliability analysis.\n"
   ]
  },
  {
   "cell_type": "markdown",
   "id": "f84611d8-07fb-4622-aa1d-ef328df37730",
   "metadata": {},
   "source": [
    "10.What is a continuous uniform distribution?\n",
    "A distribution where every value in a given interval is equally likely."
   ]
  },
  {
   "cell_type": "markdown",
   "id": "973b052c-4219-4929-ba0e-2d1574303684",
   "metadata": {},
   "source": [
    "11.What are the characteristics of a normal distribution?\n",
    "Symmetric, bell-shaped, fully defined by its mean \n",
    "𝜇\n",
    "μ and standard deviation \n",
    "𝜎\n",
    "σ."
   ]
  },
  {
   "cell_type": "markdown",
   "id": "37400e0a-b317-40b9-bde3-db032b7bf5f8",
   "metadata": {},
   "source": [
    "12.What is the standard normal distribution, and why is it important?\n",
    "A normal distribution with \n",
    "𝜇=0 μ=0 and 𝜎 = 1 σ=1, used for standardizing data."
   ]
  },
  {
   "cell_type": "markdown",
   "id": "3cd82ce1-14c4-4434-af08-84b98ca7e0cd",
   "metadata": {},
   "source": [
    "13.What is the Central Limit Theorem (CLT), and why is it critical in statistics?\n",
    "The CLT states that the distribution of the sample mean approaches normality as the sample size increases, regardless of the population’s distribution."
   ]
  },
  {
   "cell_type": "markdown",
   "id": "2fd610da-3f7f-45d5-b1f8-1f879e9a6564",
   "metadata": {},
   "source": [
    "14.How does the Central Limit Theorem relate to the normal distribution?\n",
    "It explains why many real-world data distributions tend to be normal when large enough samples are taken."
   ]
  },
  {
   "cell_type": "markdown",
   "id": "e5a383b9-dd18-447c-a18d-3dcb30a637ce",
   "metadata": {},
   "source": [
    "15.What is the application of Z statistics in hypothesis testing?\n",
    "Z-tests compare sample means to population means when population variance is known.\n"
   ]
  },
  {
   "cell_type": "markdown",
   "id": "d657128b-84b7-4b8d-a8eb-5e258c88af07",
   "metadata": {},
   "source": [
    "16.How do you calculate a Z-score, and what does it represent?\n",
    "𝑍=𝑥−𝜇 𝜎 Z= σ x−μ measures how many standard deviations \n",
    "x is from the mean 𝜇 μ."
   ]
  },
  {
   "cell_type": "code",
   "execution_count": null,
   "id": "302a14c2-41fe-4ba2-b257-352c0d2f05a8",
   "metadata": {},
   "outputs": [],
   "source": [
    "17.What are point estimates and interval estimates in statistics?\n",
    "A point estimate provides a single value estimate, while an interval estimate gives a range of values with confidence"
   ]
  },
  {
   "cell_type": "markdown",
   "id": "172f360d-81bd-4e5d-a365-878e9b3538d3",
   "metadata": {},
   "source": [
    "18.What is the significance of confidence intervals in statistical analysis?\n",
    "Confidence intervals quantify uncertainty in estimating population parameters.\n"
   ]
  },
  {
   "cell_type": "markdown",
   "id": "196dad31-9c58-4014-aa56-df05ba5c3c2c",
   "metadata": {},
   "source": [
    "19.What is the relationship between a Z-score and a confidence interval?\n",
    "Z-scores help determine critical values for confidence intervals."
   ]
  },
  {
   "cell_type": "markdown",
   "id": "1c6dd3ea-dfb0-4f3c-a205-18d6f4e3cba0",
   "metadata": {},
   "source": [
    "20.How are Z-scores used to compare different distributions?\n",
    "They standardize different distributions, allowing comparison on a common scale."
   ]
  },
  {
   "cell_type": "markdown",
   "id": "5c0ab268-1985-49dc-a88f-ee11aa0e5474",
   "metadata": {},
   "source": [
    "21.What are the assumptions for applying the Central Limit Theorem?\n",
    "Independent samples, sufficiently large sample size, and finite variance."
   ]
  },
  {
   "cell_type": "markdown",
   "id": "0caa9634-d426-4568-beb5-2e42ee3edda4",
   "metadata": {},
   "source": [
    "22.What is the concept of expected value in a probability distribution?\n",
    "The expected value is the weighted average of all possible values of a random variable."
   ]
  },
  {
   "cell_type": "markdown",
   "id": "f5fb9559-ac63-48fd-aa56-25bfa1b7dc29",
   "metadata": {},
   "source": [
    "23.How does a probability distribution relate to the expected outcome of a random variable?\n",
    "The probability distribution defines how likely different outcomes are, influencing the expected value."
   ]
  },
  {
   "cell_type": "code",
   "execution_count": null,
   "id": "024fa1c2-7494-4081-8833-160d5186d356",
   "metadata": {},
   "outputs": [],
   "source": [
    "#Practical"
   ]
  },
  {
   "cell_type": "code",
   "execution_count": 1,
   "id": "23d83f84-cce7-4e15-89ca-8e500c7eef7d",
   "metadata": {},
   "outputs": [
    {
     "name": "stdout",
     "output_type": "stream",
     "text": [
      "Random Variable: 56\n"
     ]
    }
   ],
   "source": [
    "#1. Generate a random variable and display its value\n",
    "\n",
    "import random\n",
    "\n",
    "random_var = random.randint(1, 100)\n",
    "print(\"Random Variable:\", random_var)"
   ]
  },
  {
   "cell_type": "code",
   "execution_count": null,
   "id": "c7aa0b25-03ac-4a8e-977f-9fc02b31cffe",
   "metadata": {},
   "outputs": [],
   "source": [
    "#2. Generate a discrete uniform distribution and plot PMF\n",
    "import numpy as np\n",
    "import matplotlib.pyplot as plt\n",
    "import scipy.stats as stats\n",
    "\n",
    "values = np.arange(1, 7)  # Simulating a fair die (1-6)\n",
    "pmf = stats.randint.pmf(values, 1, 7)\n",
    "\n",
    "plt.bar(values, pmf, color='skyblue', edgecolor='black')\n",
    "plt.xlabel('Value')\n",
    "plt.ylabel('Probability')\n",
    "plt.title('PMF of a Discrete Uniform Distribution')\n",
    "plt.show()"
   ]
  },
  {
   "cell_type": "code",
   "execution_count": 3,
   "id": "0dd4935f-78ae-40bc-bb15-2833aea84971",
   "metadata": {},
   "outputs": [
    {
     "name": "stdout",
     "output_type": "stream",
     "text": [
      "P(X=1) for p=0.6: 0.6\n",
      "P(X=0) for p=0.6: 0.4\n"
     ]
    }
   ],
   "source": [
    "#3. Calculate the PDF of a Bernoulli distribution\n",
    "\n",
    "def bernoulli_pdf(p, x):\n",
    "    return p**x * (1 - p)**(1 - x) if x in [0, 1] else 0\n",
    "\n",
    "print(\"P(X=1) for p=0.6:\", bernoulli_pdf(0.6, 1))\n",
    "print(\"P(X=0) for p=0.6:\", bernoulli_pdf(0.6, 0))"
   ]
  },
  {
   "cell_type": "code",
   "execution_count": null,
   "id": "59104aa0-2d41-49b9-87ed-eb65b313da11",
   "metadata": {},
   "outputs": [],
   "source": [
    "#4. Simulate a binomial distribution and plot histogram\n",
    "\n",
    "n, p = 10, 0.5\n",
    "binomial_data = np.random.binomial(n, p, 1000)\n",
    "\n",
    "plt.hist(binomial_data, bins=range(n+2), density=True, alpha=0.7, color='blue', edgecolor='black')\n",
    "plt.xlabel('Successes')\n",
    "plt.ylabel('Probability')\n",
    "plt.title('Binomial Distribution (n=10, p=0.5)')\n",
    "plt.show()"
   ]
  },
  {
   "cell_type": "code",
   "execution_count": null,
   "id": "61a0b124-89e6-4525-a567-b3b3f6f45254",
   "metadata": {},
   "outputs": [],
   "source": [
    "#5. Create a Poisson distribution and visualize it\n",
    "\n",
    "lam = 5  # Average rate\n",
    "poisson_data = np.random.poisson(lam, 1000)\n",
    "\n",
    "plt.hist(poisson_data, bins=range(max(poisson_data)+1), density=True, alpha=0.7, color='red', edgecolor='black')\n",
    "plt.xlabel('Occurrences')\n",
    "plt.ylabel('Probability')\n",
    "plt.title('Poisson Distribution (λ=5)')\n",
    "plt.show()"
   ]
  },
  {
   "cell_type": "code",
   "execution_count": null,
   "id": "e4aa213b-de31-4b8d-b03f-853aa04ff77e",
   "metadata": {},
   "outputs": [],
   "source": [
    "#6. Calculate and plot the CDF of a discrete uniform distribution\n",
    "\n",
    "cdf = stats.randint.cdf(values, 1, 7)\n",
    "\n",
    "plt.step(values, cdf, where='mid', color='green', linewidth=2)\n",
    "plt.xlabel('Value')\n",
    "plt.ylabel('Cumulative Probability')\n",
    "plt.title('CDF of a Discrete Uniform Distribution')\n",
    "plt.show()"
   ]
  },
  {
   "cell_type": "code",
   "execution_count": null,
   "id": "a6ba0a14-ae55-4f50-b2a3-5ae9f7123b07",
   "metadata": {},
   "outputs": [],
   "source": [
    "#7. Generate and visualize a continuous uniform distribution\n",
    "\n",
    "uniform_data = np.random.uniform(0, 1, 1000)\n",
    "\n",
    "plt.hist(uniform_data, bins=30, density=True, alpha=0.7, color='purple', edgecolor='black')\n",
    "plt.xlabel('Value')\n",
    "plt.ylabel('Density')\n",
    "plt.title('Continuous Uniform Distribution')\n",
    "plt.show()"
   ]
  },
  {
   "cell_type": "code",
   "execution_count": null,
   "id": "d7ef845f-9b52-4c07-b9cd-ab7da5b145c0",
   "metadata": {},
   "outputs": [],
   "source": [
    "#8. Simulate a normal distribution and plot histogram\n",
    "\n",
    "mu, sigma = 0, 1\n",
    "normal_data = np.random.normal(mu, sigma, 1000)\n",
    "\n",
    "plt.hist(normal_data, bins=30, density=True, alpha=0.7, color='orange', edgecolor='black')\n",
    "plt.xlabel('Value')\n",
    "plt.ylabel('Density')\n",
    "plt.title('Histogram of Normal Distribution')\n",
    "plt.show()"
   ]
  },
  {
   "cell_type": "code",
   "execution_count": null,
   "id": "cbb1f2b1-5427-4c71-9399-d1e2e4751604",
   "metadata": {},
   "outputs": [],
   "source": [
    "#9. Calculate Z-scores from a dataset and plot them\n",
    "\n",
    "from scipy.stats import zscore\n",
    "\n",
    "data = np.random.normal(50, 15, 1000)\n",
    "z_scores = zscore(data)\n",
    "\n",
    "plt.hist(z_scores, bins=30, density=True, alpha=0.7, color='cyan', edgecolor='black')\n",
    "plt.xlabel('Z-Score')\n",
    "plt.ylabel('Density')\n",
    "plt.title('Z-Scores of a Dataset')\n",
    "plt.show()"
   ]
  },
  {
   "cell_type": "code",
   "execution_count": null,
   "id": "80c1a9d6-c43d-465d-9892-91d026b0bae2",
   "metadata": {},
   "outputs": [],
   "source": [
    "#10. Implement the CLT using Python\n",
    "\n",
    "sample_size = 30\n",
    "num_samples = 1000\n",
    "non_normal_data = np.random.exponential(scale=2, size=10000)\n",
    "\n",
    "sample_means = [np.mean(np.random.choice(non_normal_data, sample_size)) for _ in range(num_samples)]\n",
    "\n",
    "plt.hist(sample_means, bins=30, density=True, alpha=0.7, color='brown', edgecolor='black')\n",
    "plt.xlabel('Sample Mean')\n",
    "plt.ylabel('Density')\n",
    "plt.title('Central Limit Theorem Demonstration')\n",
    "plt.show()\n"
   ]
  },
  {
   "cell_type": "code",
   "execution_count": null,
   "id": "ff6cc9e7-685c-4992-8768-7d962130f7b3",
   "metadata": {},
   "outputs": [],
   "source": [
    "#15. Simulate multiple samples from a normal distribution and verify the Central Limit Theorem\n",
    "\n",
    "import numpy as np\n",
    "import matplotlib.pyplot as plt\n",
    "\n",
    "sample_size = 30\n",
    "num_samples = 1000\n",
    "population = np.random.normal(50, 15, 10000)\n",
    "\n",
    "sample_means = [np.mean(np.random.choice(population, sample_size)) for _ in range(num_samples)]\n",
    "\n",
    "plt.hist(sample_means, bins=30, density=True, alpha=0.7, color='blue', edgecolor='black')\n",
    "plt.xlabel('Sample Mean')\n",
    "plt.ylabel('Density')\n",
    "plt.title('Verification of Central Limit Theorem')\n",
    "plt.show()\n"
   ]
  },
  {
   "cell_type": "code",
   "execution_count": null,
   "id": "c50ba283-604a-4be6-9ced-07ba273ec6bf",
   "metadata": {},
   "outputs": [],
   "source": [
    "#16. Calculate and plot the standard normal distribution (mean = 0, std = 1)\n",
    "\n",
    "import scipy.stats as stats\n",
    "\n",
    "x = np.linspace(-4, 4, 100)\n",
    "pdf = stats.norm.pdf(x, 0, 1)\n",
    "\n",
    "plt.plot(x, pdf, color='red', label='Standard Normal Distribution')\n",
    "plt.xlabel('Z-Score')\n",
    "plt.ylabel('Density')\n",
    "plt.title('Standard Normal Distribution (Mean=0, Std=1)')\n",
    "plt.legend()\n",
    "plt.show()\n"
   ]
  },
  {
   "cell_type": "code",
   "execution_count": null,
   "id": "742c9d21-9966-4e55-bf33-bc7769434ec7",
   "metadata": {},
   "outputs": [],
   "source": [
    "#17. Generate binomial random variables and calculate their probabilities\n",
    "\n",
    "n, p = 10, 0.5\n",
    "binomial_data = np.random.binomial(n, p, 1000)\n",
    "\n",
    "print(\"Probability of getting exactly 5 successes:\", np.sum(binomial_data == 5) / len(binomial_data))"
   ]
  },
  {
   "cell_type": "code",
   "execution_count": null,
   "id": "82adefa6-a369-4642-a0bc-a41fe27f2f3a",
   "metadata": {},
   "outputs": [],
   "source": [
    "#18. Calculate the Z-score for a data point and compare it to a standard normal distribution\n",
    "\n",
    "def calculate_z_score(x, mean, std):\n",
    "    return (x - mean) / std\n",
    "\n",
    "data = np.random.normal(50, 10, 100)\n",
    "z_score = calculate_z_score(55, np.mean(data), np.std(data))\n",
    "\n",
    "print(\"Z-score:\", z_score)"
   ]
  },
  {
   "cell_type": "code",
   "execution_count": null,
   "id": "667d60ee-5bb0-41b3-9c6e-960d816edfb4",
   "metadata": {},
   "outputs": [],
   "source": [
    "#19. Implement hypothesis testing using Z-statistics\n",
    "\n",
    "from scipy.stats import norm\n",
    "\n",
    "sample_mean = 52\n",
    "pop_mean = 50\n",
    "pop_std = 10\n",
    "sample_size = 30\n",
    "\n",
    "z_stat = (sample_mean - pop_mean) / (pop_std / np.sqrt(sample_size))\n",
    "p_value = 1 - norm.cdf(z_stat)\n",
    "\n",
    "print(\"Z-Statistic:\", z_stat)\n",
    "print(\"P-Value:\", p_value)"
   ]
  },
  {
   "cell_type": "code",
   "execution_count": null,
   "id": "6e237101-e88f-4f04-8e94-8d27bdc2e753",
   "metadata": {},
   "outputs": [],
   "source": [
    "#20. Create a confidence interval for a dataset\n",
    "\n",
    "import scipy.stats as st\n",
    "\n",
    "data = np.random.normal(100, 15, 50)\n",
    "confidence = 0.95\n",
    "\n",
    "mean, std_err = np.mean(data), st.sem(data)\n",
    "margin_error = std_err * st.t.ppf((1 + confidence) / 2, len(data) - 1)\n",
    "\n",
    "conf_interval = (mean - margin_error, mean + margin_error)\n",
    "\n",
    "print(\"95% Confidence Interval:\", conf_interval)"
   ]
  },
  {
   "cell_type": "code",
   "execution_count": null,
   "id": "ae500c06-927c-4ae1-941c-ea5311ea752f",
   "metadata": {},
   "outputs": [],
   "source": [
    "#21. Generate normal data, then calculate and interpret confidence interval\n",
    "\n",
    "data = np.random.normal(50, 10, 100)\n",
    "mean, std_err = np.mean(data), st.sem(data)\n",
    "conf_interval = st.norm.interval(0.95, loc=mean, scale=std_err)\n",
    "\n",
    "print(\"95% Confidence Interval for Mean:\", conf_interval)"
   ]
  },
  {
   "cell_type": "code",
   "execution_count": null,
   "id": "9f9b4f4a-e137-47d7-a5af-9b4a4d27b84d",
   "metadata": {},
   "outputs": [],
   "source": [
    "#22. Calculate and visualize the PDF of a normal distribution\n",
    "\n",
    "x = np.linspace(30, 70, 100)\n",
    "pdf = stats.norm.pdf(x, 50, 10)\n",
    "\n",
    "plt.plot(x, pdf, color='green', label='PDF')\n",
    "plt.xlabel('Value')\n",
    "plt.ylabel('Density')\n",
    "plt.title('Probability Density Function of Normal Distribution')\n",
    "plt.legend()\n",
    "plt.show()"
   ]
  },
  {
   "cell_type": "code",
   "execution_count": null,
   "id": "01672fd2-9513-436b-bfe3-4296714ba814",
   "metadata": {},
   "outputs": [],
   "source": [
    "#23. Calculate and interpret the CDF of a Poisson distribution\n",
    "\n",
    "lambda_poisson = 4\n",
    "x = np.arange(0, 15)\n",
    "cdf = stats.poisson.cdf(x, lambda_poisson)\n",
    "\n",
    "plt.step(x, cdf, where='mid', color='purple')\n",
    "plt.xlabel('x')\n",
    "plt.ylabel('CDF')\n",
    "plt.title('Cumulative Distribution Function of Poisson Distribution')\n",
    "plt.show()"
   ]
  },
  {
   "cell_type": "code",
   "execution_count": null,
   "id": "aec4a573-0f2e-43b8-91ca-8bf8eab456d1",
   "metadata": {},
   "outputs": [],
   "source": [
    "#24. Simulate a continuous uniform distribution and calculate expected value\n",
    "\n",
    "data = np.random.uniform(10, 20, 1000)\n",
    "expected_value = np.mean(data)\n",
    "\n",
    "print(\"Expected Value:\", expected_value)"
   ]
  },
  {
   "cell_type": "code",
   "execution_count": null,
   "id": "fae5790f-e34e-4384-9025-8f225e5d89cd",
   "metadata": {},
   "outputs": [],
   "source": [
    "#25. Compare the standard deviations of two datasets and visualize the difference\n",
    "\n",
    "data1 = np.random.normal(50, 5, 1000)\n",
    "data2 = np.random.normal(50, 15, 1000)\n",
    "\n",
    "print(\"Standard Deviation of Data1:\", np.std(data1))\n",
    "print(\"Standard Deviation of Data2:\", np.std(data2))\n",
    "\n",
    "plt.hist(data1, bins=30, alpha=0.5, label='Std Dev = 5', color='blue')\n",
    "plt.hist(data2, bins=30, alpha=0.5, label='Std Dev = 15', color='red')\n",
    "plt.legend()\n",
    "plt.show()"
   ]
  },
  {
   "cell_type": "code",
   "execution_count": null,
   "id": "da804115-5025-4162-bcea-8aae116be075",
   "metadata": {},
   "outputs": [],
   "source": []
  },
  {
   "cell_type": "code",
   "execution_count": null,
   "id": "cfb1d86d-e8d2-4958-991c-ce368e819199",
   "metadata": {},
   "outputs": [],
   "source": []
  },
  {
   "cell_type": "code",
   "execution_count": null,
   "id": "d1062460-48ff-4146-9ca5-13fb97951532",
   "metadata": {},
   "outputs": [],
   "source": []
  },
  {
   "cell_type": "code",
   "execution_count": null,
   "id": "8baf282c-8f17-4177-8710-e6bdf787e859",
   "metadata": {},
   "outputs": [],
   "source": []
  },
  {
   "cell_type": "code",
   "execution_count": null,
   "id": "bfeee45e-c672-46a3-9ea2-09faf19936fb",
   "metadata": {},
   "outputs": [],
   "source": []
  },
  {
   "cell_type": "code",
   "execution_count": null,
   "id": "0b00e88c-ce6a-4336-903b-748fbf2fbf95",
   "metadata": {},
   "outputs": [],
   "source": []
  }
 ],
 "metadata": {
  "kernelspec": {
   "display_name": "Python 3 (ipykernel)",
   "language": "python",
   "name": "python3"
  },
  "language_info": {
   "codemirror_mode": {
    "name": "ipython",
    "version": 3
   },
   "file_extension": ".py",
   "mimetype": "text/x-python",
   "name": "python",
   "nbconvert_exporter": "python",
   "pygments_lexer": "ipython3",
   "version": "3.13.0"
  }
 },
 "nbformat": 4,
 "nbformat_minor": 5
}
