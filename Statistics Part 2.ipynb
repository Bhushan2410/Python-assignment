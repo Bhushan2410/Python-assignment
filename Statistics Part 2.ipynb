{
 "cells": [
  {
   "cell_type": "markdown",
   "id": "5f91d5ea-2ec0-4e13-9e67-59d4d9491d91",
   "metadata": {},
   "source": [
    "1. What is hypothesis testing in statistics?\n",
    "Answer: Hypothesis testing is a statistical method used to determine whether there is enough evidence in a sample of data to \n",
    "support a specific hypothesis about the population.\n"
   ]
  },
  {
   "cell_type": "markdown",
   "id": "6199fada-9f80-46b8-bbf6-edabe3335999",
   "metadata": {},
   "source": [
    "2. What is the null hypothesis, and how does it differ from the alternative hypothesis?\n",
    "Answer: The null hypothesis (H₀) suggests no effect or relationship exists, while the alternative hypothesis\n",
    "(H₁) posits that there is a significant effect or relationship."
   ]
  },
  {
   "cell_type": "markdown",
   "id": "b12f1ab6-6363-405c-849e-e88fc5008a5e",
   "metadata": {},
   "source": [
    "3. What is the significance level in hypothesis testing, and why is it important?\n",
    "Answer: The significance level (α) is the threshold used to decide whether to reject the null hypothesis,\n",
    "typically set at 0.05. It represents the probability of making a Type I error.\n"
   ]
  },
  {
   "cell_type": "markdown",
   "id": "0fc035e4-9ab6-4ba7-ad46-fe202f172403",
   "metadata": {},
   "source": [
    "4. What does a P-value represent in hypothesis testing?\n",
    "Answer: The P-value represents the probability of obtaining results as extreme as those observed, assuming the null hypothesis is true.\n"
   ]
  },
  {
   "cell_type": "markdown",
   "id": "7d4af23b-dd8d-40c5-b67c-2566d19e6226",
   "metadata": {},
   "source": [
    "5. How do you interpret the P-value in hypothesis testing?\n",
    "Answer: If the P-value is less than or equal to the significance level (α), the null hypothesis is rejected. If it is\n",
    "greater, the null hypothesis is not rejected.\n"
   ]
  },
  {
   "cell_type": "markdown",
   "id": "54115266-f3fe-43c3-9953-5c1577a61b62",
   "metadata": {},
   "source": [
    "6. What are Type 1 and Type 2 errors in hypothesis testing?\n",
    "Answer: A Type 1 error (false positive) occurs when the null hypothesis is wrongly rejected, while a Type 2 error (false negative) occurs when the null hypothesis is wrongly not rejected.\n",
    "\n"
   ]
  },
  {
   "cell_type": "markdown",
   "id": "626d8664-82a1-47eb-94cf-220f4c8d7f47",
   "metadata": {},
   "source": [
    "7. What is the difference between a one-tailed and a two-tailed test in hypothesis testing?\n",
    "Answer: A one-tailed test looks for an effect in one direction (either greater or lesser), while a two-tailed test looks for an effect in both directions."
   ]
  },
  {
   "cell_type": "markdown",
   "id": "f02a91e4-7897-4f34-99ba-b41d91c4a210",
   "metadata": {},
   "source": [
    "8. What is the Z-test, and when is it used in hypothesis testing?\n",
    "Answer: The Z-test is used to test the mean of a population when the sample size is large (n > 30) and the population variance is known.\n"
   ]
  },
  {
   "cell_type": "markdown",
   "id": "8f2c34cf-9b86-4f54-b7e0-b0d73ebedb34",
   "metadata": {},
   "source": [
    "9. How do you calculate the Z-score, and what does it represent in hypothesis testing?\n",
    "Answer: The Z-score is calculated as:\n",
    "\n",
    "𝑍= 𝑋− 𝜇 𝜎 𝑛 Z= n σ X−μ It measures how many standard deviations the sample mean is from the population mean.\n"
   ]
  },
  {
   "cell_type": "markdown",
   "id": "28f055ed-d705-4a09-9266-352d9ecbcee4",
   "metadata": {},
   "source": [
    "10. What is the T-distribution, and when should it be used instead of the normal distribution?\n",
    "Answer: The T-distribution is used when the sample size is small (n < 30) or when the population variance is unknown. It has heavier tails than the normal distribution.\n",
    "\n"
   ]
  },
  {
   "cell_type": "markdown",
   "id": "b51bbf03-1591-4088-9257-610be92fccef",
   "metadata": {},
   "source": [
    "11. What is the difference between a Z-test and a T-test?\n",
    "Answer: The Z-test is used for large samples with known population variance, while the T-test is used for small samples with unknown population variance."
   ]
  },
  {
   "cell_type": "markdown",
   "id": "1a8fe106-cda8-4d40-824d-9d4785df198a",
   "metadata": {},
   "source": [
    "12. What is the T-test, and how is it used in hypothesis testing?\n",
    "Answer: The T-test is used to compare the means of two groups and determine if they are significantly different, particularly when the sample size is small.\n",
    "\n"
   ]
  },
  {
   "cell_type": "markdown",
   "id": "ca9e3314-c10a-4c96-9a89-09887b8eb4db",
   "metadata": {},
   "source": [
    "13. What is the relationship between Z-test and T-test in hypothesis testing?\n",
    "Answer: Both tests are used to test for differences in means, but the T-test is used when the sample size is small and the population variance is unknown, whereas the Z-test is used for large samples with known variance.\n",
    "\n"
   ]
  },
  {
   "cell_type": "markdown",
   "id": "d873bb81-27ce-4203-8a50-60d12d56f5f7",
   "metadata": {},
   "source": [
    "14. What is a confidence interval, and how is it used to interpret statistical results?\n",
    "Answer: A confidence interval (CI) provides a range of values within which a population parameter is likely to fall, giving an estimate of the uncertainty in the sample estimate.\n",
    "\n"
   ]
  },
  {
   "cell_type": "markdown",
   "id": "84611809-1072-4ccd-b6a3-2babfc5b8d2b",
   "metadata": {},
   "source": [
    "15. What is the margin of error, and how does it affect the confidence interval?\n",
    "Answer: The margin of error defines the range above and below the sample statistic within which the true population parameter is likely to lie. A larger margin of error increases the width of the confidence interval.\n",
    "\n"
   ]
  },
  {
   "cell_type": "markdown",
   "id": "917696fd-bacc-48f0-940b-b05a5823eb0f",
   "metadata": {},
   "source": [
    "16. How is Bayes' Theorem used in statistics, and what is its significance?\n",
    "Answer: Bayes' Theorem calculates the probability of an event based on prior knowledge and new evidence, allowing for the updating of beliefs.\n",
    "\n"
   ]
  },
  {
   "cell_type": "markdown",
   "id": "ce24644b-48b0-4a15-9431-6e0411530d78",
   "metadata": {},
   "source": [
    "17. What is the Chi-square distribution, and when is it used?\n",
    "Answer: The Chi-square distribution is used in hypothesis testing for categorical data, such as in tests of independence and goodness of fit.\n",
    "\n"
   ]
  },
  {
   "cell_type": "markdown",
   "id": "1cb5a3d1-6ca3-4784-9e8e-1b08fa1bdd8a",
   "metadata": {},
   "source": [
    "18. What is the Chi-square goodness of fit test, and how is it applied?\n",
    "Answer: The Chi-square goodness of fit test compares observed frequencies to expected frequencies to determine if a sample matches a population distribution."
   ]
  },
  {
   "cell_type": "markdown",
   "id": "f0406de9-b1c7-4bd9-96bb-3526179898cd",
   "metadata": {},
   "source": [
    "19. What is the F-distribution, and when is it used in hypothesis testing?\n",
    "Answer: The F-distribution is used to compare variances between two or more groups, often in the context of ANOVA or regression analysis.\n",
    "\n"
   ]
  },
  {
   "cell_type": "markdown",
   "id": "26155981-03dd-40d5-af5c-cc10b0b812b0",
   "metadata": {},
   "source": [
    "20. What is an ANOVA test, and what are its assumptions?\n",
    "Answer: The ANOVA (Analysis of Variance) test compares the means of three or more groups. Assumptions include normality of data, independence of samples, and equal variances."
   ]
  },
  {
   "cell_type": "markdown",
   "id": "fe7cbc80-b1ea-4c31-8148-4dda66fd1e9d",
   "metadata": {},
   "source": [
    "21. What are the different types of ANOVA tests?\n",
    "Answer: One-way ANOVA compares means between groups, Two-way ANOVA analyzes two factors and their interaction, and Repeated Measures ANOVA is used when the same subjects are tested multiple times."
   ]
  },
  {
   "cell_type": "markdown",
   "id": "327ab735-9813-44ba-924a-ff0fb97bc224",
   "metadata": {},
   "source": [
    "22. What is the F-test, and how does it relate to hypothesis testing?\n",
    "Answer: The F-test compares the variances of two populations to determine if they are significantly different, often used in ANOVA or regression analysis.\n",
    "\n"
   ]
  },
  {
   "cell_type": "code",
   "execution_count": null,
   "id": "d6a56758-1163-4d6e-8d9d-5687be662be7",
   "metadata": {},
   "outputs": [],
   "source": [
    "#Practical"
   ]
  },
  {
   "cell_type": "code",
   "execution_count": null,
   "id": "d03960e4-4eea-489d-9ecf-c8899ad5b639",
   "metadata": {},
   "outputs": [],
   "source": [
    "#1. Perform a Z-test for comparing a sample mean to a known population mean\n",
    "\n",
    "import numpy as np\n",
    "from scipy.stats import norm\n",
    "\n",
    "def z_test(sample, pop_mean, pop_std):\n",
    "    n = len(sample)\n",
    "    sample_mean = np.mean(sample)\n",
    "    z_score = (sample_mean - pop_mean) / (pop_std / np.sqrt(n))\n",
    "    p_value = 2 * (1 - norm.cdf(abs(z_score)))\n",
    "    \n",
    "    print(f\"Z-score: {z_score:.4f}\")\n",
    "    print(f\"P-value: {p_value:.4f}\")\n",
    "\n",
    "    if p_value < 0.05:\n",
    "        print(\"Reject the null hypothesis (significant difference).\")\n",
    "    else:\n",
    "        print(\"Fail to reject the null hypothesis (no significant difference).\")\n",
    "\n",
    "# Example usage\n",
    "sample_data = np.random.normal(50, 10, 30)\n",
    "z_test(sample_data, pop_mean=50, pop_std=10)\n"
   ]
  },
  {
   "cell_type": "code",
   "execution_count": null,
   "id": "538dc8b1-ae8f-4f2d-be29-49cc65b5aab9",
   "metadata": {},
   "outputs": [],
   "source": [
    "#2. Simulate random data and calculate the P-value\n",
    "\n",
    "import numpy as np\n",
    "from scipy.stats import norm\n",
    "\n",
    "np.random.seed(42)\n",
    "sample = np.random.normal(100, 15, 50)  # Mean=100, Std=15, Sample size=50\n",
    "pop_mean = 102\n",
    "pop_std = 15\n",
    "\n",
    "z_score = (np.mean(sample) - pop_mean) / (pop_std / np.sqrt(len(sample)))\n",
    "p_value = 2 * (1 - norm.cdf(abs(z_score)))\n",
    "\n",
    "print(f\"Z-score: {z_score:.4f}\")\n",
    "print(f\"P-value: {p_value:.4f}\")\n"
   ]
  },
  {
   "cell_type": "code",
   "execution_count": null,
   "id": "e450e3f1-5032-4935-a6c9-09178460594a",
   "metadata": {},
   "outputs": [],
   "source": [
    "#3. Implement a One-Sample Z-test\n",
    "\n",
    "import numpy as np\n",
    "from scipy.stats import norm\n",
    "\n",
    "def one_sample_z_test(sample, pop_mean, pop_std):\n",
    "    n = len(sample)\n",
    "    sample_mean = np.mean(sample)\n",
    "    z_score = (sample_mean - pop_mean) / (pop_std / np.sqrt(n))\n",
    "    p_value = 2 * (1 - norm.cdf(abs(z_score)))\n",
    "    \n",
    "    return z_score, p_value\n",
    "\n",
    "# Example\n",
    "sample = np.random.normal(60, 5, 40)\n",
    "z, p = one_sample_z_test(sample, pop_mean=58, pop_std=5)\n",
    "print(f\"Z-score: {z:.4f}, P-value: {p:.4f}\")\n"
   ]
  },
  {
   "cell_type": "code",
   "execution_count": null,
   "id": "ace0ff7a-286c-4410-b627-619e2d33c20f",
   "metadata": {},
   "outputs": [],
   "source": [
    "#4. Perform a Two-Tailed Z-test and Visualize Decision Region\n",
    "\n",
    "import numpy as np\n",
    "import matplotlib.pyplot as plt\n",
    "from scipy.stats import norm\n",
    "\n",
    "sample = np.random.normal(100, 15, 50)\n",
    "pop_mean = 102\n",
    "pop_std = 15\n",
    "\n",
    "z_score = (np.mean(sample) - pop_mean) / (pop_std / np.sqrt(len(sample)))\n",
    "p_value = 2 * (1 - norm.cdf(abs(z_score)))\n",
    "\n",
    "x = np.linspace(-4, 4, 1000)\n",
    "plt.plot(x, norm.pdf(x), label=\"Standard Normal Distribution\")\n",
    "plt.axvline(-1.96, color=\"red\", linestyle=\"dashed\", label=\"Critical Value (-1.96)\")\n",
    "plt.axvline(1.96, color=\"red\", linestyle=\"dashed\", label=\"Critical Value (1.96)\")\n",
    "plt.axvline(z_score, color=\"blue\", linestyle=\"dotted\", label=f\"Z-score ({z_score:.2f})\")\n",
    "plt.legend()\n",
    "plt.title(\"Two-Tailed Z-test Decision Region\")\n",
    "plt.show()"
   ]
  },
  {
   "cell_type": "code",
   "execution_count": null,
   "id": "c486cd72-f13f-41e5-ad3a-ad4373f46f7e",
   "metadata": {},
   "outputs": [],
   "source": [
    "#5. Function to Calculate and Visualize Type 1 and Type 2 Errors\n",
    "\n",
    "import numpy as np\n",
    "import matplotlib.pyplot as plt\n",
    "from scipy.stats import norm\n",
    "\n",
    "def visualize_errors(alpha=0.05, beta=0.2):\n",
    "    x = np.linspace(-4, 4, 1000)\n",
    "    null_dist = norm.pdf(x, loc=0, scale=1)\n",
    "    alt_dist = norm.pdf(x, loc=2, scale=1)\n",
    "    \n",
    "    plt.plot(x, null_dist, label=\"Null Distribution\", color=\"blue\")\n",
    "    plt.plot(x, alt_dist, label=\"Alternative Distribution\", color=\"green\")\n",
    "\n",
    "    critical_value = norm.ppf(1 - alpha)\n",
    "    plt.fill_between(x, null_dist, where=(x > critical_value), color=\"red\", alpha=0.3, label=\"Type 1 Error\")\n",
    "    plt.fill_between(x, alt_dist, where=(x < critical_value), color=\"purple\", alpha=0.3, label=\"Type 2 Error\")\n",
    "\n",
    "    plt.legend()\n",
    "    plt.title(\"Type 1 and Type 2 Errors\")\n",
    "    plt.show()\n",
    "\n",
    "visualize_errors()\n"
   ]
  },
  {
   "cell_type": "code",
   "execution_count": null,
   "id": "d15ac265-79e0-4f5b-8259-be30f379301b",
   "metadata": {},
   "outputs": [],
   "source": [
    "#6. Perform an Independent T-test\n",
    "\n",
    "from scipy.stats import ttest_ind\n",
    "\n",
    "group1 = np.random.normal(100, 15, 50)\n",
    "group2 = np.random.normal(105, 15, 50)\n",
    "\n",
    "t_stat, p_value = ttest_ind(group1, group2)\n",
    "\n",
    "print(f\"T-statistic: {t_stat:.4f}\")\n",
    "print(f\"P-value: {p_value:.4f}\")\n",
    "\n",
    "if p_value < 0.05:\n",
    "    print(\"Reject the null hypothesis (significant difference).\")\n",
    "else:\n",
    "    print(\"Fail to reject the null hypothesis (no significant difference).\")\n"
   ]
  },
  {
   "cell_type": "code",
   "execution_count": null,
   "id": "0c0bcc20-b963-49b9-b1ea-de5c3dd8a47b",
   "metadata": {},
   "outputs": [],
   "source": [
    "#7. Perform a Paired Sample T-test and Visualize the Comparison\n",
    "\n",
    "import numpy as np\n",
    "import matplotlib.pyplot as plt\n",
    "from scipy.stats import ttest_rel\n",
    "\n",
    "before = np.random.normal(100, 10, 30)\n",
    "after = before + np.random.normal(2, 5, 30)  # Small improvement after treatment\n",
    "\n",
    "t_stat, p_value = ttest_rel(before, after)\n",
    "\n",
    "plt.boxplot([before, after], labels=[\"Before\", \"After\"])\n",
    "plt.title(\"Paired Sample T-test Comparison\")\n",
    "plt.show()\n",
    "\n",
    "print(f\"T-statistic: {t_stat:.4f}\")\n",
    "print(f\"P-value: {p_value:.4f}\")\n"
   ]
  },
  {
   "cell_type": "code",
   "execution_count": null,
   "id": "4a4b65f9-1bdf-4d07-bbf0-02222b6ac7d2",
   "metadata": {},
   "outputs": [],
   "source": [
    "#8. Simulate Data and Compare Z-test vs. T-test\n",
    "\n",
    "from scipy.stats import ttest_1samp\n",
    "\n",
    "sample = np.random.normal(100, 15, 30)\n",
    "pop_mean = 102\n",
    "pop_std = 15\n",
    "\n",
    "# Z-test\n",
    "z_score = (np.mean(sample) - pop_mean) / (pop_std / np.sqrt(len(sample)))\n",
    "p_value_z = 2 * (1 - norm.cdf(abs(z_score)))\n",
    "\n",
    "# T-test\n",
    "t_stat, p_value_t = ttest_1samp(sample, pop_mean)\n",
    "\n",
    "print(f\"Z-test -> Z-score: {z_score:.4f}, P-value: {p_value_z:.4f}\")\n",
    "print(f\"T-test -> T-statistic: {t_stat:.4f}, P-value: {p_value_t:.4f}\")"
   ]
  },
  {
   "cell_type": "code",
   "execution_count": null,
   "id": "5d69397d-0087-4288-9128-1cf0df863efa",
   "metadata": {},
   "outputs": [],
   "source": [
    "#9. Function to Calculate Confidence Interval for Sample Mean\n",
    "\n",
    "import numpy as np\n",
    "from scipy.stats import t\n",
    "\n",
    "def confidence_interval(sample, confidence=0.95):\n",
    "    n = len(sample)\n",
    "    mean = np.mean(sample)\n",
    "    std_err = np.std(sample, ddof=1) / np.sqrt(n)\n",
    "    t_crit = t.ppf((1 + confidence) / 2, df=n-1)\n",
    "    \n",
    "    lower_bound = mean - t_crit * std_err\n",
    "    upper_bound = mean + t_crit * std_err\n",
    "    \n",
    "    return lower_bound, upper_bound\n",
    "\n",
    "sample = np.random.normal(100, 15, 30)\n",
    "ci_lower, ci_upper = confidence_interval(sample)\n",
    "\n",
    "print(f\"95% Confidence Interval: ({ci_lower:.2f}, {ci_upper:.2f})\")"
   ]
  },
  {
   "cell_type": "code",
   "execution_count": null,
   "id": "e8d4cbec-c534-4723-b6fb-20d9fb367b58",
   "metadata": {},
   "outputs": [],
   "source": [
    "#10. Calculate Margin of Error for a Given Confidence Level\n",
    "\n",
    "import numpy as np\n",
    "from scipy.stats import norm\n",
    "\n",
    "def margin_of_error(sample, confidence=0.95):\n",
    "    n = len(sample)\n",
    "    std_dev = np.std(sample, ddof=1)\n",
    "    std_err = std_dev / np.sqrt(n)\n",
    "    z_crit = norm.ppf((1 + confidence) / 2)\n",
    "    \n",
    "    return z_crit * std_err\n",
    "\n",
    "sample = np.random.normal(100, 15, 50)\n",
    "moe = margin_of_error(sample)\n",
    "print(f\"Margin of Error: {moe:.4f}\")\n"
   ]
  },
  {
   "cell_type": "code",
   "execution_count": null,
   "id": "57dd6690-852f-4bb3-8ba5-7a349e42cfe3",
   "metadata": {},
   "outputs": [],
   "source": [
    "#11. Bayesian Inference Using Bayes' Theorem\n",
    "\n",
    "def bayes_theorem(prior_A, likelihood_B_given_A, prior_B):\n",
    "    posterior_A_given_B = (likelihood_B_given_A * prior_A) / prior_B\n",
    "    return posterior_A_given_B\n",
    "\n",
    "prior_A = 0.01  # Probability of having a disease\n",
    "likelihood_B_given_A = 0.95  # Sensitivity (true positive rate)\n",
    "prior_B = 0.05  # Probability of testing positive\n",
    "\n",
    "posterior = bayes_theorem(prior_A, likelihood_B_given_A, prior_B)\n",
    "print(f\"Posterior Probability: {posterior:.4f}\")\n"
   ]
  },
  {
   "cell_type": "code",
   "execution_count": null,
   "id": "15d50cb2-727c-49c2-98e9-7e4bd70baf84",
   "metadata": {},
   "outputs": [],
   "source": [
    "12. Perform a Chi-Square Test for Independence\n",
    "\n",
    "import numpy as np\n",
    "import scipy.stats as stats\n",
    "\n",
    "observed = np.array([[50, 30], [20, 40]])\n",
    "chi2, p, dof, expected = stats.chi2_contingency(observed)\n",
    "\n",
    "print(f\"Chi-Square Statistic: {chi2:.4f}\")\n",
    "print(f\"P-value: {p:.4f}\")\n",
    "print(f\"Expected Frequencies:\\n{expected}\")\n"
   ]
  },
  {
   "cell_type": "code",
   "execution_count": null,
   "id": "1623e08d-a314-4afb-b2e5-edd017b8ef8c",
   "metadata": {},
   "outputs": [],
   "source": [
    "#13. Calculate Expected Frequencies for Chi-Square Test\n",
    "\n",
    "\n",
    "def expected_frequencies(observed):\n",
    "    row_totals = observed.sum(axis=1, keepdims=True)\n",
    "    col_totals = observed.sum(axis=0, keepdims=True)\n",
    "    total = observed.sum()\n",
    "    \n",
    "    expected = (row_totals @ col_totals) / total\n",
    "    return expected\n",
    "\n",
    "observed = np.array([[50, 30], [20, 40]])\n",
    "expected = expected_frequencies(observed)\n",
    "print(\"Expected Frequencies:\\n\", expected)\n"
   ]
  },
  {
   "cell_type": "code",
   "execution_count": null,
   "id": "51a98a54-2475-41da-b9c0-3c5a1ce848c3",
   "metadata": {},
   "outputs": [],
   "source": [
    "#14. Perform a Goodness-of-Fit Test\n",
    "\n",
    "observed = np.array([40, 60, 50])\n",
    "expected = np.array([50, 50, 50])\n",
    "\n",
    "chi2, p = stats.chisquare(observed, expected)\n",
    "print(f\"Chi-Square Statistic: {chi2:.4f}, P-value: {p:.4f}\")\n"
   ]
  },
  {
   "cell_type": "code",
   "execution_count": null,
   "id": "d875d361-d61e-4be4-b925-8cb6b3418ee6",
   "metadata": {},
   "outputs": [],
   "source": [
    "#15. Simulate and Visualize Chi-Square Distribution\n",
    "\n",
    "\n",
    "import matplotlib.pyplot as plt\n",
    "import numpy as np\n",
    "from scipy.stats import chi2\n",
    "\n",
    "df = 4\n",
    "x = np.linspace(0, 20, 1000)\n",
    "plt.plot(x, chi2.pdf(x, df), label=f\"Chi-Square (df={df})\")\n",
    "plt.title(\"Chi-Square Distribution\")\n",
    "plt.legend()\n",
    "plt.show()\n"
   ]
  },
  {
   "cell_type": "code",
   "execution_count": null,
   "id": "6525e2f9-3199-4d4a-a3d3-97a2c7d072ff",
   "metadata": {},
   "outputs": [],
   "source": [
    "#16. Perform an F-Test to Compare Variances\n",
    "\n",
    "sample1 = np.random.normal(100, 15, 50)\n",
    "sample2 = np.random.normal(105, 20, 50)\n",
    "\n",
    "f_stat = np.var(sample1, ddof=1) / np.var(sample2, ddof=1)\n",
    "p_value = stats.f.cdf(f_stat, len(sample1)-1, len(sample2)-1)\n",
    "\n",
    "print(f\"F-Statistic: {f_stat:.4f}, P-value: {p_value:.4f}\")\n"
   ]
  },
  {
   "cell_type": "code",
   "execution_count": null,
   "id": "92649615-cdd3-4241-bb60-000721c60bdd",
   "metadata": {},
   "outputs": [],
   "source": [
    "#17. Perform ANOVA to Compare Means\n",
    "\n",
    "\n",
    "from scipy.stats import f_oneway\n",
    "\n",
    "group1 = np.random.normal(100, 10, 30)\n",
    "group2 = np.random.normal(105, 10, 30)\n",
    "group3 = np.random.normal(110, 10, 30)\n",
    "\n",
    "f_stat, p_value = f_oneway(group1, group2, group3)\n",
    "print(f\"F-Statistic: {f_stat:.4f}, P-value: {p_value:.4f}\")\n"
   ]
  },
  {
   "cell_type": "code",
   "execution_count": null,
   "id": "bb269f5f-34f8-45e9-81ac-8b84e5c1e60d",
   "metadata": {},
   "outputs": [],
   "source": [
    "#18. One-Way ANOVA with Visualization\n",
    "\n",
    "import seaborn as sns\n",
    "import pandas as pd\n",
    "\n",
    "data = {'Group': ['A']*30 + ['B']*30 + ['C']*30,\n",
    "        'Score': np.concatenate([group1, group2, group3])}\n",
    "\n",
    "df = pd.DataFrame(data)\n",
    "sns.boxplot(x='Group', y='Score', data=df)\n",
    "plt.show()\n"
   ]
  },
  {
   "cell_type": "code",
   "execution_count": null,
   "id": "32801e73-1623-45b7-bdb1-a56601476597",
   "metadata": {},
   "outputs": [],
   "source": [
    "#19. Check ANOVA Assumptions\n",
    "\n",
    "\n",
    "from scipy.stats import levene, shapiro\n",
    "\n",
    "def check_anova_assumptions(*groups):\n",
    "    for i, group in enumerate(groups):\n",
    "        stat, p = shapiro(group)\n",
    "        print(f\"Group {i+1} Normality Test: P-value = {p:.4f}\")\n",
    "\n",
    "    stat, p = levene(*groups)\n",
    "    print(f\"Levene's Test (Equal Variances): P-value = {p:.4f}\")\n",
    "\n",
    "check_anova_assumptions(group1, group2, group3)\n"
   ]
  },
  {
   "cell_type": "code",
   "execution_count": null,
   "id": "27707854-16cb-43a2-b5e5-d5afbd927f20",
   "metadata": {},
   "outputs": [],
   "source": [
    "#20. Perform a Two-Way ANOVA\n",
    "\n",
    "import statsmodels.api as sm\n",
    "from statsmodels.formula.api import ols\n",
    "\n",
    "df['Factor2'] = np.random.choice(['X', 'Y'], size=len(df))\n",
    "model = ols('Score ~ C(Group) + C(Factor2) + C(Group):C(Factor2)', data=df).fit()\n",
    "anova_table = sm.stats.anova_lm(model, typ=2)\n",
    "print(anova_table)\n"
   ]
  },
  {
   "cell_type": "code",
   "execution_count": null,
   "id": "2b4948bd-4dfa-4488-a21e-3609a609f91a",
   "metadata": {},
   "outputs": [],
   "source": [
    "#21. Visualize F-Distribution\n",
    "\n",
    "\n",
    "from scipy.stats import f\n",
    "\n",
    "x = np.linspace(0, 5, 1000)\n",
    "plt.plot(x, f.pdf(x, 5, 10), label=\"df=(5,10)\")\n",
    "plt.title(\"F-Distribution\")\n",
    "plt.legend()\n",
    "plt.show()\n"
   ]
  },
  {
   "cell_type": "code",
   "execution_count": null,
   "id": "f85cca6c-92e3-431f-9e4f-5cc5f5c674ca",
   "metadata": {},
   "outputs": [],
   "source": [
    "#22. One-Way ANOVA with Boxplots\n",
    "\n",
    "sns.boxplot(x=\"Group\", y=\"Score\", data=df)\n",
    "plt.title(\"One-Way ANOVA Boxplot\")\n",
    "plt.show()\n"
   ]
  },
  {
   "cell_type": "code",
   "execution_count": null,
   "id": "cca31d1b-09d1-4570-827a-8f2e66e0821b",
   "metadata": {},
   "outputs": [],
   "source": [
    "#23. Simulate Data and Perform Hypothesis Testing\n",
    "\n",
    "sample = np.random.normal(100, 15, 50)\n",
    "t_stat, p_value = stats.ttest_1samp(sample, 102)\n",
    "print(f\"T-statistic: {t_stat:.4f}, P-value: {p_value:.4f}\")\n"
   ]
  },
  {
   "cell_type": "code",
   "execution_count": null,
   "id": "3af27ff4-4c71-460f-9ecb-5653229c915d",
   "metadata": {},
   "outputs": [],
   "source": [
    "#24. Hypothesis Test for Population Variance Using Chi-Square\n",
    "\n",
    "\n",
    "sample = np.random.normal(100, 15, 50)\n",
    "sample_var = np.var(sample, ddof=1)\n",
    "pop_var = 225  # Population variance\n",
    "\n",
    "chi2_stat = (len(sample) - 1) * sample_var / pop_var\n",
    "p_value = 1 - chi2.cdf(chi2_stat, len(sample) - 1)\n",
    "\n",
    "print(f\"Chi-Square Statistic: {chi2_stat:.4f}, P-value: {p_value:.4f}\")\n"
   ]
  },
  {
   "cell_type": "code",
   "execution_count": null,
   "id": "1ca71144-0e87-4fd2-a20d-2a697b54d397",
   "metadata": {},
   "outputs": [],
   "source": [
    "#25. Perform a 2-Proportion Z-Test\n",
    "\n",
    "from statsmodels.stats.proportion import proportions_ztest\n",
    "\n",
    "success = np.array([50, 30])\n",
    "n = np.array([100, 80])\n",
    "\n",
    "z_stat, p_value = proportions_ztest(success, n)\n",
    "print(f\"Z-Statistic: {z_stat:.4f}, P-value: {p_value:.4f}\")\n"
   ]
  },
  {
   "cell_type": "code",
   "execution_count": null,
   "id": "f625a816-81de-4acd-a003-44671c81985a",
   "metadata": {},
   "outputs": [],
   "source": [
    "#26. F-Test for Comparing Variances\n",
    "\n",
    "f_stat = np.var(group1, ddof=1) / np.var(group2, ddof=1)\n",
    "p_value = stats.f.cdf(f_stat, len(group1)-1, len(group2)-1)\n",
    "\n",
    "print(f\"F-Statistic: {f_stat:.4f}, P-value: {p_value:.4f}\")\n"
   ]
  },
  {
   "cell_type": "code",
   "execution_count": null,
   "id": "692f8840-8046-48ef-a417-88599e95b295",
   "metadata": {},
   "outputs": [],
   "source": []
  },
  {
   "cell_type": "code",
   "execution_count": null,
   "id": "623014d2-9c49-4a33-ba54-6fce584728c0",
   "metadata": {},
   "outputs": [],
   "source": []
  },
  {
   "cell_type": "code",
   "execution_count": null,
   "id": "636c8286-54a6-41ba-95f6-60df0cf5e8fc",
   "metadata": {},
   "outputs": [],
   "source": []
  },
  {
   "cell_type": "code",
   "execution_count": null,
   "id": "60b8e013-e751-4bda-8f1a-42c1c2c2787c",
   "metadata": {},
   "outputs": [],
   "source": []
  },
  {
   "cell_type": "code",
   "execution_count": null,
   "id": "8af8906c-ed73-4f7e-9e5c-a0ec7ebfa557",
   "metadata": {},
   "outputs": [],
   "source": []
  },
  {
   "cell_type": "code",
   "execution_count": null,
   "id": "e45c4776-6077-48b8-897b-edfbd023d5a0",
   "metadata": {},
   "outputs": [],
   "source": []
  }
 ],
 "metadata": {
  "kernelspec": {
   "display_name": "Python 3 (ipykernel)",
   "language": "python",
   "name": "python3"
  },
  "language_info": {
   "codemirror_mode": {
    "name": "ipython",
    "version": 3
   },
   "file_extension": ".py",
   "mimetype": "text/x-python",
   "name": "python",
   "nbconvert_exporter": "python",
   "pygments_lexer": "ipython3",
   "version": "3.13.0"
  }
 },
 "nbformat": 4,
 "nbformat_minor": 5
}
