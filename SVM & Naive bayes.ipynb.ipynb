{
 "cells": [
  {
   "cell_type": "code",
   "execution_count": null,
   "id": "95c695f7-c818-42f3-8d95-974ab8eeab1f",
   "metadata": {},
   "outputs": [],
   "source": []
  },
  {
   "cell_type": "markdown",
   "id": "05ce1167-0a12-4455-9431-3be00cef6a34",
   "metadata": {},
   "source": [
    "Q1: What is a Support Vector Machine (SVM)?\n",
    "\n",
    "Support Vector Machine (SVM) is a supervised learning algorithm used for classification and regression that finds \n",
    "the optimal hyperplane to separate data points into classes."
   ]
  },
  {
   "cell_type": "markdown",
   "id": "e7cb38e0-e29a-4ef6-a224-03a8303000ad",
   "metadata": {},
   "source": [
    "Q2: What is the difference between Hard Margin and Soft Margin SVM?\n",
    "\n",
    "Hard Margin SVM requires perfect separation with no tolerance for misclassification, while Soft Margin SVM allows some misclassification \n",
    "to improve generalization."
   ]
  },
  {
   "cell_type": "markdown",
   "id": "03bf77c6-58b5-47c8-a037-09219bca01e3",
   "metadata": {},
   "source": [
    "Q3: What is the mathematical intuition behind SVM?\n",
    "\n",
    "SVM aims to maximize the margin between classes by finding the hyperplane that has the largest distance from the closest data points (support vectors)."
   ]
  },
  {
   "cell_type": "markdown",
   "id": "4040d369-91dd-499e-886e-9ec2d8c85800",
   "metadata": {},
   "source": [
    "Q4: What is the role of Lagrange Multipliers in SVM?\n",
    "\n",
    "Lagrange Multipliers are used to transform the constrained optimization problem into its dual form, making it easier to\n",
    "solve and apply kernel functions."
   ]
  },
  {
   "cell_type": "markdown",
   "id": "d849b081-6e35-4757-acfc-f1fa0427f710",
   "metadata": {},
   "source": [
    "Q5: What are Support Vectors in SVM?\n",
    "\n",
    "Support Vectors are the critical data points closest to the decision boundary; they directly determine the position and orientation of the hyperplane."
   ]
  },
  {
   "cell_type": "markdown",
   "id": "a2d2dfbb-c5ab-4bf0-a9cd-c2a84819625a",
   "metadata": {},
   "source": [
    "Q6: What is a Support Vector Classifier (SVC)?\n",
    "\n",
    "SVC is a type of SVM used for classification tasks that constructs a hyperplane or set of hyperplanes in high-dimensional space to separate\n",
    "different classes."
   ]
  },
  {
   "cell_type": "markdown",
   "id": "1790cbd4-e6b0-43c1-9b32-419f353d10b9",
   "metadata": {},
   "source": [
    "Q7: What is a Support Vector Regressor (SVR)?\n",
    "\n",
    "SVR is an adaptation of SVM for regression tasks that tries to fit the best line within a margin of tolerance (epsilon) around the predicted value."
   ]
  },
  {
   "cell_type": "markdown",
   "id": "71f1def8-96d7-44e2-afb1-2610025e4476",
   "metadata": {},
   "source": [
    "Q8: What is the Kernel Trick in SVM?\n",
    "\n",
    "The Kernel Trick allows SVM to perform non-linear classification by implicitly mapping data into higher-dimensional space without explicitly \n",
    "transforming it."
   ]
  },
  {
   "cell_type": "markdown",
   "id": "aae91db4-4254-46bb-8e6c-6d313521c3cb",
   "metadata": {},
   "source": [
    "Q9: Compare Linear Kernel, Polynomial Kernel, and RBF Kernel:\n",
    "\n",
    "Linear Kernel: Best for linearly separable data.\n",
    "Polynomial Kernel: Captures feature interactions of varying degrees.\n",
    "RBF Kernel: Suitable for non-linear data, maps input to infinite dimensions using a Gaussian function."
   ]
  },
  {
   "cell_type": "markdown",
   "id": "d45df520-10d8-4c00-8c9e-bff9cd56f70a",
   "metadata": {},
   "source": [
    "Q10: What is the effect of the C parameter in SVM?\n",
    "\n",
    "The C parameter controls the trade-off between maximizing the margin and minimizing classification errors; higher C results in a smaller \n",
    "margin and fewer misclassifications."
   ]
  },
  {
   "cell_type": "markdown",
   "id": "a3dca613-dbcd-4be9-a4f3-35dd35426f08",
   "metadata": {},
   "source": [
    "Q11: What is the role of the Gamma parameter in RBF Kernel SVM?\n",
    "\n",
    "Gamma defines how far the influence of a single training example reaches; high gamma means close influence (more complex), low gamma means\n",
    "far-reaching influence (simpler model)."
   ]
  },
  {
   "cell_type": "markdown",
   "id": "a6000c1f-2d70-41e2-94da-3c6faddb4e95",
   "metadata": {},
   "source": [
    "Q12: What is the Naïve Bayes classifier, and why is it called \"Naïve\"?\n",
    "\n",
    "Naïve Bayes is a probabilistic classifier based on Bayes’ Theorem, called \"naïve\" because it assumes that all features are independent of each\n",
    "other given the class."
   ]
  },
  {
   "cell_type": "markdown",
   "id": "c445ada2-b9cd-4284-b2de-b19ef55cc3d9",
   "metadata": {},
   "source": [
    "Q13: What is Bayes’ Theorem?\n",
    "Bayes’ Theorem:\n",
    "\n",
    ")\n",
    "P(A∣B)= \n",
    "P(B)\n",
    "P(B∣A)⋅P(A)\n",
    "\n",
    " \n",
    "It calculates the posterior probability of an event based on prior knowledge of related events.\n",
    "\n"
   ]
  },
  {
   "cell_type": "markdown",
   "id": "2907596b-8bc9-4ca9-911f-e929e1e64d5e",
   "metadata": {},
   "source": [
    "Q14: Explain the differences between Gaussian, Multinomial, and Bernoulli Naïve Bayes:\n",
    "\n",
    "Gaussian: For continuous data assuming normal distribution.\n",
    "Multinomial: For count-based features (e.g., word frequencies).\n",
    "Bernoulli: For binary features (e.g., word presence/absence)."
   ]
  },
  {
   "cell_type": "markdown",
   "id": "606157d2-5067-41e4-9e05-250f05034b9e",
   "metadata": {},
   "source": [
    "Q15: When should you use Gaussian Naïve Bayes over other variants?\n",
    "\n",
    "Use Gaussian Naïve Bayes when the input features are continuous and approximately follow a normal distribution."
   ]
  },
  {
   "cell_type": "markdown",
   "id": "52b74d7d-94e5-4d84-a9cd-5bcaf9be9c5a",
   "metadata": {},
   "source": [
    "Q16: What are the key assumptions made by Naïve Bayes?\n",
    "\n",
    "All features are conditionally independent given the class label.\n",
    "Each feature contributes independently and equally to the outcome."
   ]
  },
  {
   "cell_type": "markdown",
   "id": "2b7398c6-4fed-463e-8fcb-cf9560b816fb",
   "metadata": {},
   "source": [
    "Q17: What are the advantages and disadvantages of Naïve Bayes?\n",
    "\n",
    "Advantages: Fast, simple, works well with high-dimensional data.\n",
    "Disadvantages: Assumes feature independence, which may not always hold."
   ]
  },
  {
   "cell_type": "markdown",
   "id": "804b2175-7986-4273-a12f-2ecd4c3aa082",
   "metadata": {},
   "source": [
    "Q18: Why is Naïve Bayes a good choice for text classification?\n",
    "\n",
    "It handles high-dimensional sparse data well and assumes word independence, which fits the bag-of-words model commonly used in NLP."
   ]
  },
  {
   "cell_type": "markdown",
   "id": "eb0e9750-a5c2-4fc5-9d35-39e1544cb0af",
   "metadata": {},
   "source": [
    "Q19: Compare SVM and Naïve Bayes for classification tasks:\n",
    "\n",
    "SVM: More accurate for complex decision boundaries; slower.\n",
    "Naïve Bayes: Faster and good for text data; may underperform if feature independence doesn't hold"
   ]
  },
  {
   "cell_type": "markdown",
   "id": "87cd555d-e701-4c62-825a-623611cb69e3",
   "metadata": {},
   "source": [
    "Q20: How does Laplace Smoothing help in Naïve Bayes?\n",
    "\n",
    "Laplace Smoothing avoids zero probability for unseen words or features by adding a small constant to frequency counts, ensuring better model generalization."
   ]
  },
  {
   "cell_type": "code",
   "execution_count": null,
   "id": "8a06a4d3-7632-4494-9154-38d710f9aae3",
   "metadata": {},
   "outputs": [],
   "source": []
  },
  {
   "cell_type": "code",
   "execution_count": 3,
   "id": "80ac4141-6523-4512-87f8-380a5e2d8236",
   "metadata": {},
   "outputs": [
    {
     "name": "stdout",
     "output_type": "stream",
     "text": [
      "Accuracy: 1.00\n"
     ]
    }
   ],
   "source": [
    "#Q21: Train an SVM Classifier on the Iris dataset and evaluate accuracy\n",
    "\n",
    "from sklearn import datasets\n",
    "from sklearn.model_selection import train_test_split\n",
    "from sklearn.svm import SVC\n",
    "from sklearn.metrics import accuracy_score\n",
    "\n",
    "# Load Iris dataset\n",
    "iris = datasets.load_iris()\n",
    "X = iris.data\n",
    "y = iris.target\n",
    "\n",
    "# Split dataset into training and testing\n",
    "X_train, X_test, y_train, y_test = train_test_split(X, y, test_size=0.3, random_state=42)\n",
    "\n",
    "# Train an SVM Classifier with Linear Kernel\n",
    "svm = SVC(kernel='linear')\n",
    "svm.fit(X_train, y_train)\n",
    "\n",
    "# Make predictions and evaluate accuracy\n",
    "y_pred = svm.predict(X_test)\n",
    "accuracy = accuracy_score(y_test, y_pred)\n",
    "print(f'Accuracy: {accuracy:.2f}')\n"
   ]
  },
  {
   "cell_type": "code",
   "execution_count": 4,
   "id": "2a2e7a8f-bc0e-4fdd-b088-3348433bad66",
   "metadata": {},
   "outputs": [
    {
     "name": "stdout",
     "output_type": "stream",
     "text": [
      "Accuracy with Linear Kernel: 0.98\n",
      "Accuracy with RBF Kernel: 0.76\n"
     ]
    }
   ],
   "source": [
    "#Q22: Train two SVM classifiers with Linear and RBF kernels on the Wine dataset and compare their accuracies\n",
    "\n",
    "from sklearn import datasets\n",
    "from sklearn.svm import SVC\n",
    "from sklearn.model_selection import train_test_split\n",
    "from sklearn.metrics import accuracy_score\n",
    "\n",
    "# Load Wine dataset\n",
    "wine = datasets.load_wine()\n",
    "X = wine.data\n",
    "y = wine.target\n",
    "\n",
    "# Split dataset into training and testing\n",
    "X_train, X_test, y_train, y_test = train_test_split(X, y, test_size=0.3, random_state=42)\n",
    "\n",
    "# Train an SVM Classifier with Linear Kernel\n",
    "svm_linear = SVC(kernel='linear')\n",
    "svm_linear.fit(X_train, y_train)\n",
    "\n",
    "# Train an SVM Classifier with RBF Kernel\n",
    "svm_rbf = SVC(kernel='rbf')\n",
    "svm_rbf.fit(X_train, y_train)\n",
    "\n",
    "# Make predictions and evaluate accuracies\n",
    "y_pred_linear = svm_linear.predict(X_test)\n",
    "y_pred_rbf = svm_rbf.predict(X_test)\n",
    "\n",
    "accuracy_linear = accuracy_score(y_test, y_pred_linear)\n",
    "accuracy_rbf = accuracy_score(y_test, y_pred_rbf)\n",
    "\n",
    "print(f'Accuracy with Linear Kernel: {accuracy_linear:.2f}')\n",
    "print(f'Accuracy with RBF Kernel: {accuracy_rbf:.2f}')\n"
   ]
  },
  {
   "cell_type": "code",
   "execution_count": 5,
   "id": "e4d8512e-8a5f-4964-ae1f-b899a198acfb",
   "metadata": {},
   "outputs": [
    {
     "name": "stdout",
     "output_type": "stream",
     "text": [
      "Mean Squared Error: 1.35\n"
     ]
    }
   ],
   "source": [
    "#Q23: Train an SVM Regressor (SVR) on a housing dataset and evaluate it using Mean Squared Error (MSE)\n",
    "\n",
    "from sklearn.datasets import fetch_california_housing\n",
    "from sklearn.model_selection import train_test_split\n",
    "from sklearn.svm import SVR\n",
    "from sklearn.metrics import mean_squared_error\n",
    "\n",
    "# Load California housing dataset\n",
    "housing = fetch_california_housing()\n",
    "X = housing.data\n",
    "y = housing.target\n",
    "\n",
    "# Split dataset into training and testing\n",
    "X_train, X_test, y_train, y_test = train_test_split(X, y, test_size=0.3, random_state=42)\n",
    "\n",
    "# Train an SVM Regressor (SVR)\n",
    "svr = SVR(kernel='rbf')\n",
    "svr.fit(X_train, y_train)\n",
    "\n",
    "# Make predictions and evaluate using Mean Squared Error (MSE)\n",
    "y_pred = svr.predict(X_test)\n",
    "mse = mean_squared_error(y_test, y_pred)\n",
    "print(f'Mean Squared Error: {mse:.2f}')\n"
   ]
  },
  {
   "cell_type": "code",
   "execution_count": 7,
   "id": "1cf039e9-7a21-4951-9d2b-754c9336bcb0",
   "metadata": {},
   "outputs": [
    {
     "data": {
      "image/png": "[encoded data removed]",
      "text/plain": [
       "<Figure size 640x480 with 1 Axes>"
      ]
     },
     "metadata": {},
     "output_type": "display_data"
    }
   ],
   "source": [
    "#Q24: Train an SVM Classifier with a Polynomial Kernel and visualize the decision boundary\n",
    "\n",
    "import numpy as np\n",
    "import matplotlib.pyplot as plt\n",
    "from sklearn import datasets\n",
    "from sklearn.svm import SVC\n",
    "from sklearn.model_selection import train_test_split\n",
    "\n",
    "# Load Iris dataset\n",
    "iris = datasets.load_iris()\n",
    "X = iris.data[:, :2]  # Take only the first two features\n",
    "y = iris.target\n",
    "\n",
    "# Split dataset into training and testing\n",
    "X_train, X_test, y_train, y_test = train_test_split(X, y, test_size=0.3, random_state=42)\n",
    "\n",
    "# Train an SVM Classifier with Polynomial Kernel\n",
    "svm_poly = SVC(kernel='poly')\n",
    "svm_poly.fit(X_train, y_train)\n",
    "\n",
    "# Plot decision boundary\n",
    "h = .02  # Step size in the mesh\n",
    "x_min, x_max = X[:, 0].min() - 1, X[:, 0].max() + 1\n",
    "y_min, y_max = X[:, 1].min() - 1, X[:, 1].max() + 1\n",
    "xx, yy = np.meshgrid(np.arange(x_min, x_max, h),\n",
    "                     np.arange(y_min, y_max, h))\n",
    "\n",
    "Z = svm_poly.predict(np.c_[xx.ravel(), yy.ravel()])\n",
    "Z = Z.reshape(xx.shape)\n",
    "\n",
    "plt.contourf(xx, yy, Z, alpha=0.8)\n",
    "plt.scatter(X[:, 0], X[:, 1], c=y, edgecolors='k', marker='o', s=40)\n",
    "plt.xlabel('Feature 1')\n",
    "plt.ylabel('Feature 2')\n",
    "plt.title('SVM Classifier with Polynomial Kernel - Decision Boundary')\n",
    "plt.show()\n"
   ]
  },
  {
   "cell_type": "code",
   "execution_count": 8,
   "id": "b4c523f2-a321-49e3-80ef-83ec289aa22b",
   "metadata": {},
   "outputs": [
    {
     "name": "stdout",
     "output_type": "stream",
     "text": [
      "Accuracy: 0.94\n"
     ]
    }
   ],
   "source": [
    "#Q25: Train a Gaussian Naïve Bayes classifier on the Breast Cancer dataset and evaluate accuracy\n",
    "\n",
    "from sklearn.datasets import load_breast_cancer\n",
    "from sklearn.model_selection import train_test_split\n",
    "from sklearn.naive_bayes import GaussianNB\n",
    "from sklearn.metrics import accuracy_score\n",
    "\n",
    "# Load Breast Cancer dataset\n",
    "cancer = load_breast_cancer()\n",
    "X = cancer.data\n",
    "y = cancer.target\n",
    "\n",
    "# Split dataset into training and testing\n",
    "X_train, X_test, y_train, y_test = train_test_split(X, y, test_size=0.3, random_state=42)\n",
    "\n",
    "# Train a Gaussian Naïve Bayes classifier\n",
    "gnb = GaussianNB()\n",
    "gnb.fit(X_train, y_train)\n",
    "\n",
    "# Make predictions and evaluate accuracy\n",
    "y_pred = gnb.predict(X_test)\n",
    "accuracy = accuracy_score(y_test, y_pred)\n",
    "print(f'Accuracy: {accuracy:.2f}')\n"
   ]
  },
  {
   "cell_type": "code",
   "execution_count": 10,
   "id": "84722c80-963e-4e78-a135-147b34fec514",
   "metadata": {},
   "outputs": [
    {
     "name": "stdout",
     "output_type": "stream",
     "text": [
      "Accuracy: 0.84\n"
     ]
    }
   ],
   "source": [
    "#Q26: Train a Multinomial Naïve Bayes classifier for text classification using the 20 Newsgroups dataset\n",
    "\n",
    "from sklearn.datasets import fetch_20newsgroups\n",
    "from sklearn.model_selection import train_test_split\n",
    "from sklearn.naive_bayes import MultinomialNB\n",
    "from sklearn.feature_extraction.text import CountVectorizer\n",
    "from sklearn.metrics import accuracy_score\n",
    "\n",
    "# Load 20 Newsgroups dataset\n",
    "newsgroups = fetch_20newsgroups(subset='all')\n",
    "X = newsgroups.data\n",
    "y = newsgroups.target\n",
    "\n",
    "# Convert text data to word count vectors\n",
    "vectorizer = CountVectorizer()\n",
    "X_vectorized = vectorizer.fit_transform(X)\n",
    "\n",
    "# Split dataset into training and testing\n",
    "X_train, X_test, y_train, y_test = train_test_split(X_vectorized, y, test_size=0.3, random_state=42)\n",
    "\n",
    "# Train a Multinomial Naïve Bayes classifier\n",
    "mnb = MultinomialNB()\n",
    "mnb.fit(X_train, y_train)\n",
    "\n",
    "# Make predictions and evaluate accuracy\n",
    "y_pred = mnb.predict(X_test)\n",
    "accuracy = accuracy_score(y_test, y_pred)\n",
    "print(f'Accuracy: {accuracy:.2f}')\n"
   ]
  },
  {
   "cell_type": "code",
   "execution_count": 11,
   "id": "392b1f35-d6cf-4478-b84c-0d982db780c8",
   "metadata": {},
   "outputs": [
    {
     "data": {
      "image/png": "[encoded data removed]",
      "text/plain": [
       "<Figure size 1500x500 with 3 Axes>"
      ]
     },
     "metadata": {},
     "output_type": "display_data"
    }
   ],
   "source": [
    "#Q27: Train an SVM Classifier with different C values and compare the decision boundaries visually\n",
    "\n",
    "import numpy as np\n",
    "import matplotlib.pyplot as plt\n",
    "from sklearn import datasets\n",
    "from sklearn.svm import SVC\n",
    "from sklearn.model_selection import train_test_split\n",
    "\n",
    "# Load Iris dataset and take only the first two features for visualization\n",
    "iris = datasets.load_iris()\n",
    "X = iris.data[:, :2]\n",
    "y = iris.target\n",
    "\n",
    "# Split dataset into training and testing\n",
    "X_train, X_test, y_train, y_test = train_test_split(X, y, test_size=0.3, random_state=42)\n",
    "\n",
    "# Different C values\n",
    "C_values = [0.1, 1, 10]\n",
    "\n",
    "plt.figure(figsize=(15, 5))\n",
    "\n",
    "for i, C in enumerate(C_values):\n",
    "    svm = SVC(C=C, kernel='linear')\n",
    "    svm.fit(X_train, y_train)\n",
    "\n",
    "    # Create mesh grid for visualization\n",
    "    h = .02\n",
    "    x_min, x_max = X[:, 0].min() - 1, X[:, 0].max() + 1\n",
    "    y_min, y_max = X[:, 1].min() - 1, X[:, 1].max() + 1\n",
    "    xx, yy = np.meshgrid(np.arange(x_min, x_max, h),\n",
    "                         np.arange(y_min, y_max, h))\n",
    "    \n",
    "    Z = svm.predict(np.c_[xx.ravel(), yy.ravel()])\n",
    "    Z = Z.reshape(xx.shape)\n",
    "\n",
    "    plt.subplot(1, 3, i + 1)\n",
    "    plt.contourf(xx, yy, Z, alpha=0.8)\n",
    "    plt.scatter(X[:, 0], X[:, 1], c=y, edgecolors='k', marker='o', s=40)\n",
    "    plt.title(f'SVM with C={C}')\n",
    "\n",
    "plt.show()\n"
   ]
  },
  {
   "cell_type": "code",
   "execution_count": 12,
   "id": "7e2d8e3e-91a1-4a44-93f5-e10cb2ee68dd",
   "metadata": {},
   "outputs": [
    {
     "name": "stdout",
     "output_type": "stream",
     "text": [
      "Accuracy: 0.88\n"
     ]
    }
   ],
   "source": [
    "#Q28: Train a Bernoulli Naïve Bayes classifier for binary classification on a dataset with binary features\n",
    "\n",
    "from sklearn.datasets import make_classification\n",
    "from sklearn.naive_bayes import BernoulliNB\n",
    "from sklearn.model_selection import train_test_split\n",
    "from sklearn.metrics import accuracy_score\n",
    "\n",
    "# Create a binary classification dataset with binary features\n",
    "X, y = make_classification(n_samples=1000, n_features=20, n_informative=10, n_clusters_per_class=1, n_classes=2, random_state=42)\n",
    "\n",
    "# Split dataset into training and testing\n",
    "X_train, X_test, y_train, y_test = train_test_split(X, y, test_size=0.3, random_state=42)\n",
    "\n",
    "# Train a Bernoulli Naïve Bayes classifier\n",
    "bnb = BernoulliNB()\n",
    "bnb.fit(X_train, y_train)\n",
    "\n",
    "# Make predictions and evaluate accuracy\n",
    "y_pred = bnb.predict(X_test)\n",
    "accuracy = accuracy_score(y_test, y_pred)\n",
    "print(f'Accuracy: {accuracy:.2f}')\n"
   ]
  },
  {
   "cell_type": "code",
   "execution_count": 13,
   "id": "e29f28c7-c285-41d1-b4d5-e80b18840cf0",
   "metadata": {},
   "outputs": [
    {
     "name": "stdout",
     "output_type": "stream",
     "text": [
      "Accuracy without scaling: 1.00\n",
      "Accuracy with scaling: 0.98\n"
     ]
    }
   ],
   "source": [
    "#Q29: Apply feature scaling before training an SVM model and compare results with unscaled data\n",
    "\n",
    "from sklearn.preprocessing import StandardScaler\n",
    "from sklearn.svm import SVC\n",
    "from sklearn.model_selection import train_test_split\n",
    "from sklearn.metrics import accuracy_score\n",
    "from sklearn.datasets import load_iris\n",
    "\n",
    "# Load Iris dataset\n",
    "iris = load_iris()\n",
    "X = iris.data\n",
    "y = iris.target\n",
    "\n",
    "# Split dataset into training and testing\n",
    "X_train, X_test, y_train, y_test = train_test_split(X, y, test_size=0.3, random_state=42)\n",
    "\n",
    "# Without scaling\n",
    "svm = SVC(kernel='linear')\n",
    "svm.fit(X_train, y_train)\n",
    "y_pred_no_scale = svm.predict(X_test)\n",
    "accuracy_no_scale = accuracy_score(y_test, y_pred_no_scale)\n",
    "\n",
    "# With scaling\n",
    "scaler = StandardScaler()\n",
    "X_train_scaled = scaler.fit_transform(X_train)\n",
    "X_test_scaled = scaler.transform(X_test)\n",
    "\n",
    "svm.fit(X_train_scaled, y_train)\n",
    "y_pred_scaled = svm.predict(X_test_scaled)\n",
    "accuracy_scaled = accuracy_score(y_test, y_pred_scaled)\n",
    "\n",
    "print(f'Accuracy without scaling: {accuracy_no_scale:.2f}')\n",
    "print(f'Accuracy with scaling: {accuracy_scaled:.2f}')\n"
   ]
  },
  {
   "cell_type": "code",
   "execution_count": 15,
   "id": "cf593a49-8a03-45f8-b1c9-d365db730d27",
   "metadata": {},
   "outputs": [
    {
     "name": "stdout",
     "output_type": "stream",
     "text": [
      "Accuracy without Laplace smoothing: 0.98\n",
      "Accuracy with Laplace smoothing: 0.98\n"
     ]
    }
   ],
   "source": [
    "#Q30: Train a Gaussian Naïve Bayes model and compare the predictions before and after Laplace Smoothing\n",
    "\n",
    "from sklearn.naive_bayes import GaussianNB\n",
    "from sklearn.datasets import load_iris\n",
    "from sklearn.model_selection import train_test_split\n",
    "from sklearn.metrics import accuracy_score\n",
    "\n",
    "# Load Iris dataset\n",
    "iris = load_iris()\n",
    "X = iris.data\n",
    "y = iris.target\n",
    "\n",
    "# Split dataset into training and testing\n",
    "X_train, X_test, y_train, y_test = train_test_split(X, y, test_size=0.3, random_state=42)\n",
    "\n",
    "# Without Laplace Smoothing\n",
    "gnb_no_smooth = GaussianNB(var_smoothing=0)\n",
    "gnb_no_smooth.fit(X_train, y_train)\n",
    "y_pred_no_smooth = gnb_no_smooth.predict(X_test)\n",
    "accuracy_no_smooth = accuracy_score(y_test, y_pred_no_smooth)\n",
    "\n",
    "# With Laplace Smoothing (default var_smoothing value)\n",
    "gnb_smooth = GaussianNB()\n",
    "gnb_smooth.fit(X_train, y_train)\n",
    "y_pred_smooth = gnb_smooth.predict(X_test)\n",
    "accuracy_smooth = accuracy_score(y_test, y_pred_smooth)\n",
    "\n",
    "print(f'Accuracy without Laplace smoothing: {accuracy_no_smooth:.2f}')\n",
    "print(f'Accuracy with Laplace smoothing: {accuracy_smooth:.2f}')\n"
   ]
  },
  {
   "cell_type": "code",
   "execution_count": 17,
   "id": "43dc94a6-45aa-4cd1-8431-03eac7a5ac7a",
   "metadata": {},
   "outputs": [
    {
     "name": "stdout",
     "output_type": "stream",
     "text": [
      "Best Parameters: {'C': 1, 'gamma': 0.01, 'kernel': 'linear'}\n",
      "Best Score: 0.9619047619047618\n"
     ]
    }
   ],
   "source": [
    "#Q31: Train an SVM Classifier and use GridSearchCV to tune the hyperparameters (C, gamma, kernel)\n",
    "\n",
    "from sklearn.model_selection import GridSearchCV\n",
    "from sklearn.svm import SVC\n",
    "from sklearn.datasets import load_iris\n",
    "from sklearn.model_selection import train_test_split\n",
    "\n",
    "# Load Iris dataset\n",
    "iris = load_iris()\n",
    "X = iris.data\n",
    "y = iris.target\n",
    "\n",
    "# Split dataset into training and testing\n",
    "X_train, X_test, y_train, y_test = train_test_split(X, y, test_size=0.3, random_state=42)\n",
    "\n",
    "# Set parameters for GridSearchCV\n",
    "param_grid = {\n",
    "    'C': [0.1, 1, 10],\n",
    "    'gamma': [0.01, 0.1, 1],\n",
    "    'kernel': ['linear', 'rbf']\n",
    "}\n",
    "\n",
    "# Apply GridSearchCV\n",
    "grid_search = GridSearchCV(SVC(), param_grid, cv=5)\n",
    "grid_search.fit(X_train, y_train)\n",
    "\n",
    "# Print the best parameters and the corresponding accuracy\n",
    "print(f'Best Parameters: {grid_search.best_params_}')\n",
    "print(f'Best Score: {grid_search.best_score_}')\n",
    "\n"
   ]
  },
  {
   "cell_type": "code",
   "execution_count": 18,
   "id": "5255fbaf-8929-480a-9234-8fc5ffa24364",
   "metadata": {},
   "outputs": [
    {
     "name": "stdout",
     "output_type": "stream",
     "text": [
      "Accuracy without class weighting: 0.93\n",
      "Accuracy with class weighting: 0.88\n"
     ]
    }
   ],
   "source": [
    "#Q32: Train an SVM Classifier on an imbalanced dataset and apply class weighting and check if it improves accuracy\n",
    "\n",
    "from sklearn.svm import SVC\n",
    "from sklearn.datasets import make_classification\n",
    "from sklearn.model_selection import train_test_split\n",
    "from sklearn.metrics import accuracy_score\n",
    "\n",
    "# Create an imbalanced dataset\n",
    "X, y = make_classification(n_samples=1000, n_features=20, n_informative=2, n_redundant=10, weights=[0.9, 0.1], random_state=42)\n",
    "\n",
    "# Split dataset into training and testing\n",
    "X_train, X_test, y_train, y_test = train_test_split(X, y, test_size=0.3, random_state=42)\n",
    "\n",
    "# Train SVM without class weighting\n",
    "svm = SVC(kernel='linear')\n",
    "svm.fit(X_train, y_train)\n",
    "y_pred_no_weight = svm.predict(X_test)\n",
    "accuracy_no_weight = accuracy_score(y_test, y_pred_no_weight)\n",
    "\n",
    "# Train SVM with class weighting\n",
    "svm_weighted = SVC(kernel='linear', class_weight='balanced')\n",
    "svm_weighted.fit(X_train, y_train)\n",
    "y_pred_weighted = svm_weighted.predict(X_test)\n",
    "accuracy_weighted = accuracy_score(y_test, y_pred_weighted)\n",
    "\n",
    "print(f'Accuracy without class weighting: {accuracy_no_weight:.2f}')\n",
    "print(f'Accuracy with class weighting: {accuracy_weighted:.2f}')\n"
   ]
  },
  {
   "cell_type": "code",
   "execution_count": 19,
   "id": "22a0a450-59ee-40f5-8315-26e5e9f37721",
   "metadata": {},
   "outputs": [
    {
     "name": "stdout",
     "output_type": "stream",
     "text": [
      "Accuracy: 0.00\n"
     ]
    }
   ],
   "source": [
    "#Q33: Implement a Naïve Bayes classifier for spam detection using email data\n",
    "\n",
    "from sklearn.naive_bayes import MultinomialNB\n",
    "from sklearn.feature_extraction.text import CountVectorizer\n",
    "from sklearn.model_selection import train_test_split\n",
    "from sklearn.metrics import accuracy_score\n",
    "\n",
    "# Example email data (spam or ham)\n",
    "emails = [\n",
    "    \"Free money, click here\", \"Hi, how are you?\", \"Get rich quick!\", \"Let's meet tomorrow\",\n",
    "    \"Discount offer just for you\", \"Important meeting tomorrow\"\n",
    "]\n",
    "labels = [1, 0, 1, 0, 1, 0]  # 1 for spam, 0 for ham\n",
    "\n",
    "# Convert text to word count vectors\n",
    "vectorizer = CountVectorizer()\n",
    "X = vectorizer.fit_transform(emails)\n",
    "y = labels\n",
    "\n",
    "# Split dataset into training and testing\n",
    "X_train, X_test, y_train, y_test = train_test_split(X, y, test_size=0.3, random_state=42)\n",
    "\n",
    "# Train a Naïve Bayes classifier\n",
    "nb = MultinomialNB()\n",
    "nb.fit(X_train, y_train)\n",
    "\n",
    "# Make predictions and evaluate accuracy\n",
    "y_pred = nb.predict(X_test)\n",
    "accuracy = accuracy_score(y_test, y_pred)\n",
    "print(f'Accuracy: {accuracy:.2f}')\n"
   ]
  },
  {
   "cell_type": "code",
   "execution_count": 20,
   "id": "0df105a4-115a-4282-bd9f-9401bdfc5bf5",
   "metadata": {},
   "outputs": [
    {
     "name": "stdout",
     "output_type": "stream",
     "text": [
      "SVM Accuracy: 1.00\n",
      "Naïve Bayes Accuracy: 0.98\n"
     ]
    }
   ],
   "source": [
    "#Q34: Train an SVM Classifier and a Naïve Bayes Classifier on the same dataset and compare their accuracy\n",
    "\n",
    "from sklearn.svm import SVC\n",
    "from sklearn.naive_bayes import GaussianNB\n",
    "from sklearn.datasets import load_iris\n",
    "from sklearn.model_selection import train_test_split\n",
    "from sklearn.metrics import accuracy_score\n",
    "\n",
    "# Load Iris dataset\n",
    "iris = load_iris()\n",
    "X = iris.data\n",
    "y = iris.target\n",
    "\n",
    "# Split dataset into training and testing\n",
    "X_train, X_test, y_train, y_test = train_test_split(X, y, test_size=0.3, random_state=42)\n",
    "\n",
    "# Train an SVM Classifier\n",
    "svm = SVC(kernel='linear')\n",
    "svm.fit(X_train, y_train)\n",
    "y_pred_svm = svm.predict(X_test)\n",
    "accuracy_svm = accuracy_score(y_test, y_pred_svm)\n",
    "\n",
    "# Train a Naïve Bayes Classifier\n",
    "nb = GaussianNB()\n",
    "nb.fit(X_train, y_train)\n",
    "y_pred_nb = nb.predict(X_test)\n",
    "accuracy_nb = accuracy_score(y_test, y_pred_nb)\n",
    "\n",
    "print(f'SVM Accuracy: {accuracy_svm:.2f}')\n",
    "print(f'Naïve Bayes Accuracy: {accuracy_nb:.2f}')\n"
   ]
  },
  {
   "cell_type": "code",
   "execution_count": 21,
   "id": "dba02b37-4353-4df7-874f-f3b4a1d8a06e",
   "metadata": {},
   "outputs": [
    {
     "name": "stdout",
     "output_type": "stream",
     "text": [
      "Accuracy with feature selection: 0.44\n",
      "Accuracy without feature selection: 0.96\n"
     ]
    }
   ],
   "source": [
    "#Q35: Perform feature selection before training a Naïve Bayes classifier and compare results\n",
    "\n",
    "from sklearn.feature_selection import SelectKBest, chi2\n",
    "from sklearn.naive_bayes import MultinomialNB\n",
    "from sklearn.datasets import load_iris\n",
    "from sklearn.model_selection import train_test_split\n",
    "from sklearn.metrics import accuracy_score\n",
    "\n",
    "# Load Iris dataset\n",
    "iris = load_iris()\n",
    "X = iris.data\n",
    "y = iris.target\n",
    "\n",
    "# Split dataset into training and testing\n",
    "X_train, X_test, y_train, y_test = train_test_split(X, y, test_size=0.3, random_state=42)\n",
    "\n",
    "# Perform feature selection using SelectKBest\n",
    "selector = SelectKBest(chi2, k=2)\n",
    "X_train_selected = selector.fit_transform(X_train, y_train)\n",
    "X_test_selected = selector.transform(X_test)\n",
    "\n",
    "# Train a Naïve Bayes classifier with selected features\n",
    "nb = MultinomialNB()\n",
    "nb.fit(X_train_selected, y_train)\n",
    "y_pred_selected = nb.predict(X_test_selected)\n",
    "accuracy_selected = accuracy_score(y_test, y_pred_selected)\n",
    "\n",
    "# Train a Naïve Bayes classifier without feature selection\n",
    "nb_no_select = MultinomialNB()\n",
    "nb_no_select.fit(X_train, y_train)\n",
    "y_pred_no_select = nb_no_select.predict(X_test)\n",
    "accuracy_no_select = accuracy_score(y_test, y_pred_no_select)\n",
    "\n",
    "print(f'Accuracy with feature selection: {accuracy_selected:.2f}')\n",
    "print(f'Accuracy without feature selection: {accuracy_no_select:.2f}')\n"
   ]
  },
  {
   "cell_type": "code",
   "execution_count": 22,
   "id": "36ddae99-702b-4e18-8619-27ac36b2bc8e",
   "metadata": {},
   "outputs": [
    {
     "name": "stdout",
     "output_type": "stream",
     "text": [
      "Accuracy with OvR: 0.76\n",
      "Accuracy with OvO: 0.76\n"
     ]
    }
   ],
   "source": [
    "#Q36: Train an SVM Classifier using One-vs-Rest (OvR) and One-vs-One (OvO) strategies on the Wine dataset and compare their accuracy\n",
    "\n",
    "from sklearn.svm import SVC\n",
    "from sklearn.datasets import load_wine\n",
    "from sklearn.model_selection import train_test_split\n",
    "from sklearn.metrics import accuracy_score\n",
    "\n",
    "# Load Wine dataset\n",
    "wine = load_wine()\n",
    "X = wine.data\n",
    "y = wine.target\n",
    "\n",
    "# Split dataset into training and testing\n",
    "X_train, X_test, y_train, y_test = train_test_split(X, y, test_size=0.3, random_state=42)\n",
    "\n",
    "# Train using One-vs-Rest strategy\n",
    "svm_ovr = SVC(decision_function_shape='ovr')\n",
    "svm_ovr.fit(X_train, y_train)\n",
    "y_pred_ovr = svm_ovr.predict(X_test)\n",
    "accuracy_ovr = accuracy_score(y_test, y_pred_ovr)\n",
    "\n",
    "# Train using One-vs-One strategy\n",
    "svm_ovo = SVC(decision_function_shape='ovo')\n",
    "svm_ovo.fit(X_train, y_train)\n",
    "y_pred_ovo = svm_ovo.predict(X_test)\n",
    "accuracy_ovo = accuracy_score(y_test, y_pred_ovo)\n",
    "\n",
    "print(f'Accuracy with OvR: {accuracy_ovr:.2f}')\n",
    "print(f'Accuracy with OvO: {accuracy_ovo:.2f}')\n"
   ]
  },
  {
   "cell_type": "code",
   "execution_count": 23,
   "id": "6f099cc4-a189-4e78-8522-784827db216d",
   "metadata": {},
   "outputs": [
    {
     "name": "stdout",
     "output_type": "stream",
     "text": [
      "Accuracy with Linear Kernel: 0.96\n",
      "Accuracy with Polynomial Kernel: 0.94\n",
      "Accuracy with RBF Kernel: 0.94\n"
     ]
    }
   ],
   "source": [
    "#Q37: Train an SVM Classifier using Linear, Polynomial, and RBF kernels on the Breast Cancer dataset and compare their accuracy\n",
    "\n",
    "from sklearn.svm import SVC\n",
    "from sklearn.datasets import load_breast_cancer\n",
    "from sklearn.model_selection import train_test_split\n",
    "from sklearn.metrics import accuracy_score\n",
    "\n",
    "# Load Breast Cancer dataset\n",
    "cancer = load_breast_cancer()\n",
    "X = cancer.data\n",
    "y = cancer.target\n",
    "\n",
    "# Split dataset into training and testing\n",
    "X_train, X_test, y_train, y_test = train_test_split(X, y, test_size=0.3, random_state=42)\n",
    "\n",
    "# Train SVM with Linear Kernel\n",
    "svm_linear = SVC(kernel='linear')\n",
    "svm_linear.fit(X_train, y_train)\n",
    "y_pred_linear = svm_linear.predict(X_test)\n",
    "accuracy_linear = accuracy_score(y_test, y_pred_linear)\n",
    "\n",
    "# Train SVM with Polynomial Kernel\n",
    "svm_poly = SVC(kernel='poly')\n",
    "svm_poly.fit(X_train, y_train)\n",
    "y_pred_poly = svm_poly.predict(X_test)\n",
    "accuracy_poly = accuracy_score(y_test, y_pred_poly)\n",
    "\n",
    "# Train SVM with RBF Kernel\n",
    "svm_rbf = SVC(kernel='rbf')\n",
    "svm_rbf.fit(X_train, y_train)\n",
    "y_pred_rbf = svm_rbf.predict(X_test)\n",
    "accuracy_rbf = accuracy_score(y_test, y_pred_rbf)\n",
    "\n",
    "print(f'Accuracy with Linear Kernel: {accuracy_linear:.2f}')\n",
    "print(f'Accuracy with Polynomial Kernel: {accuracy_poly:.2f}')\n",
    "print(f'Accuracy with RBF Kernel: {accuracy_rbf:.2f}')\n",
    "\n"
   ]
  },
  {
   "cell_type": "code",
   "execution_count": 24,
   "id": "9fdb9cca-534e-4ee2-b486-eb281941d9c2",
   "metadata": {},
   "outputs": [
    {
     "name": "stdout",
     "output_type": "stream",
     "text": [
      "Average accuracy: 0.99\n"
     ]
    }
   ],
   "source": [
    "#Q38: Train an SVM Classifier using Stratified K-Fold Cross-Validation and compute the average accuracy\n",
    "\n",
    "from sklearn.model_selection import StratifiedKFold, cross_val_score\n",
    "from sklearn.svm import SVC\n",
    "from sklearn.datasets import load_iris\n",
    "\n",
    "# Load Iris dataset\n",
    "iris = load_iris()\n",
    "X = iris.data\n",
    "y = iris.target\n",
    "\n",
    "# Stratified K-Fold Cross-Validation\n",
    "skf = StratifiedKFold(n_splits=5, shuffle=True, random_state=42)\n",
    "svm = SVC(kernel='linear')\n",
    "\n",
    "# Compute cross-validation scores\n",
    "scores = cross_val_score(svm, X, y, cv=skf, scoring='accuracy')\n",
    "average_accuracy = scores.mean()\n",
    "print(f'Average accuracy: {average_accuracy:.2f}')\n"
   ]
  },
  {
   "cell_type": "code",
   "execution_count": 26,
   "id": "92a5fcc1-937d-4cee-b364-6249f262a203",
   "metadata": {},
   "outputs": [
    {
     "name": "stdout",
     "output_type": "stream",
     "text": [
      "Accuracy with default priors: 0.98\n",
      "Accuracy with custom priors: 0.96\n"
     ]
    }
   ],
   "source": [
    "#Q39: Train a Naïve Bayes classifier using different prior probabilities and compare performance\n",
    "from sklearn.naive_bayes import GaussianNB\n",
    "from sklearn.datasets import load_iris\n",
    "from sklearn.model_selection import train_test_split\n",
    "from sklearn.metrics import accuracy_score\n",
    "\n",
    "# Load Iris dataset\n",
    "iris = load_iris()\n",
    "X = iris.data\n",
    "y = iris.target\n",
    "\n",
    "# Split dataset into training and testing\n",
    "X_train, X_test, y_train, y_test = train_test_split(X, y, test_size=0.3, random_state=42)\n",
    "\n",
    "# Train Naïve Bayes with equal prior probabilities (default)\n",
    "nb_default = GaussianNB()\n",
    "nb_default.fit(X_train, y_train)\n",
    "y_pred_default = nb_default.predict(X_test)\n",
    "accuracy_default = accuracy_score(y_test, y_pred_default)\n",
    "\n",
    "# Train Naïve Bayes with custom prior probabilities\n",
    "nb_custom = GaussianNB(priors=[0.2, 0.3, 0.5])  # Example prior probabilities\n",
    "nb_custom.fit(X_train, y_train)\n",
    "y_pred_custom = nb_custom.predict(X_test)\n",
    "accuracy_custom = accuracy_score(y_test, y_pred_custom)\n",
    "\n",
    "print(f'Accuracy with default priors: {accuracy_default:.2f}')\n",
    "print(f'Accuracy with custom priors: {accuracy_custom:.2f}')\n"
   ]
  },
  {
   "cell_type": "code",
   "execution_count": 27,
   "id": "ee9267f3-0f5f-434b-aa33-5740b9f9f275",
   "metadata": {},
   "outputs": [
    {
     "name": "stdout",
     "output_type": "stream",
     "text": [
      "Accuracy with RFE: 1.00\n",
      "Accuracy without RFE: 1.00\n"
     ]
    }
   ],
   "source": [
    "#Q40: Perform Recursive Feature Elimination (RFE) before training an SVM Classifier and compare accuracy\n",
    "\n",
    "from sklearn.svm import SVC\n",
    "from sklearn.datasets import load_iris\n",
    "from sklearn.model_selection import train_test_split\n",
    "from sklearn.feature_selection import RFE\n",
    "from sklearn.metrics import accuracy_score\n",
    "\n",
    "# Load Iris dataset\n",
    "iris = load_iris()\n",
    "X = iris.data\n",
    "y = iris.target\n",
    "\n",
    "# Split dataset into training and testing\n",
    "X_train, X_test, y_train, y_test = train_test_split(X, y, test_size=0.3, random_state=42)\n",
    "\n",
    "# Perform Recursive Feature Elimination (RFE)\n",
    "svm = SVC(kernel='linear')\n",
    "selector = RFE(svm, n_features_to_select=2)\n",
    "X_train_rfe = selector.fit_transform(X_train, y_train)\n",
    "X_test_rfe = selector.transform(X_test)\n",
    "\n",
    "# Train SVM Classifier on the dataset with RFE\n",
    "svm_rfe = SVC(kernel='linear')\n",
    "svm_rfe.fit(X_train_rfe, y_train)\n",
    "y_pred_rfe = svm_rfe.predict(X_test_rfe)\n",
    "accuracy_rfe = accuracy_score(y_test, y_pred_rfe)\n",
    "\n",
    "# Train SVM Classifier without RFE\n",
    "svm_no_rfe = SVC(kernel='linear')\n",
    "svm_no_rfe.fit(X_train, y_train)\n",
    "y_pred_no_rfe = svm_no_rfe.predict(X_test)\n",
    "accuracy_no_rfe = accuracy_score(y_test, y_pred_no_rfe)\n",
    "\n",
    "print(f'Accuracy with RFE: {accuracy_rfe:.2f}')\n",
    "print(f'Accuracy without RFE: {accuracy_no_rfe:.2f}')\n"
   ]
  },
  {
   "cell_type": "code",
   "execution_count": 28,
   "id": "db6069d5-f130-4145-9127-9fd76f4c650d",
   "metadata": {},
   "outputs": [
    {
     "name": "stdout",
     "output_type": "stream",
     "text": [
      "Precision: 1.00\n",
      "Recall: 1.00\n",
      "F1-Score: 1.00\n"
     ]
    }
   ],
   "source": [
    "#Q41: Train an SVM Classifier and evaluate its performance using Precision, Recall, and F1-Score instead of accuracy\n",
    "\n",
    "from sklearn.svm import SVC\n",
    "from sklearn.datasets import load_iris\n",
    "from sklearn.model_selection import train_test_split\n",
    "from sklearn.metrics import precision_score, recall_score, f1_score\n",
    "\n",
    "# Load Iris dataset\n",
    "iris = load_iris()\n",
    "X = iris.data\n",
    "y = iris.target\n",
    "\n",
    "# Split dataset into training and testing\n",
    "X_train, X_test, y_train, y_test = train_test_split(X, y, test_size=0.3, random_state=42)\n",
    "\n",
    "# Train SVM Classifier\n",
    "svm = SVC(kernel='linear')\n",
    "svm.fit(X_train, y_train)\n",
    "\n",
    "# Make predictions\n",
    "y_pred = svm.predict(X_test)\n",
    "\n",
    "# Evaluate performance using Precision, Recall, and F1-Score\n",
    "precision = precision_score(y_test, y_pred, average='weighted')\n",
    "recall = recall_score(y_test, y_pred, average='weighted')\n",
    "f1 = f1_score(y_test, y_pred, average='weighted')\n",
    "\n",
    "print(f'Precision: {precision:.2f}')\n",
    "print(f'Recall: {recall:.2f}')\n",
    "print(f'F1-Score: {f1:.2f}')\n"
   ]
  },
  {
   "cell_type": "code",
   "execution_count": 29,
   "id": "792d1ac2-fb89-439e-b60a-7dc5c2dd3492",
   "metadata": {},
   "outputs": [
    {
     "name": "stdout",
     "output_type": "stream",
     "text": [
      "Log Loss: 0.05\n"
     ]
    }
   ],
   "source": [
    "#Q42: Train a Naïve Bayes Classifier and evaluate its performance using Log Loss (Cross-Entropy Loss)\n",
    "\n",
    "from sklearn.naive_bayes import GaussianNB\n",
    "from sklearn.datasets import load_iris\n",
    "from sklearn.model_selection import train_test_split\n",
    "from sklearn.metrics import log_loss\n",
    "from sklearn.preprocessing import LabelBinarizer\n",
    "\n",
    "# Load Iris dataset\n",
    "iris = load_iris()\n",
    "X = iris.data\n",
    "y = iris.target\n",
    "\n",
    "# Split dataset into training and testing\n",
    "X_train, X_test, y_train, y_test = train_test_split(X, y, test_size=0.3, random_state=42)\n",
    "\n",
    "# Train a Naïve Bayes classifier\n",
    "nb = GaussianNB()\n",
    "nb.fit(X_train, y_train)\n",
    "\n",
    "# Predict probabilities for Log Loss calculation\n",
    "y_pred_prob = nb.predict_proba(X_test)\n",
    "\n",
    "# Binarize the labels\n",
    "lb = LabelBinarizer()\n",
    "y_test_bin = lb.fit_transform(y_test)\n",
    "\n",
    "# Calculate Log Loss\n",
    "loss = log_loss(y_test_bin, y_pred_prob)\n",
    "print(f'Log Loss: {loss:.2f}')\n"
   ]
  },
  {
   "cell_type": "code",
   "execution_count": 30,
   "id": "b15572bf-ed7c-4f12-b546-b31dc45ba297",
   "metadata": {},
   "outputs": [
    {
     "data": {
      "image/png": "[encoded data removed]",
      "text/plain": [
       "<Figure size 640x480 with 2 Axes>"
      ]
     },
     "metadata": {},
     "output_type": "display_data"
    }
   ],
   "source": [
    "#Q43: Train an SVM Classifier and visualize the Confusion Matrix using seaborn\n",
    "\n",
    "import seaborn as sns\n",
    "import matplotlib.pyplot as plt\n",
    "from sklearn.svm import SVC\n",
    "from sklearn.datasets import load_iris\n",
    "from sklearn.model_selection import train_test_split\n",
    "from sklearn.metrics import confusion_matrix\n",
    "\n",
    "# Load Iris dataset\n",
    "iris = load_iris()\n",
    "X = iris.data\n",
    "y = iris.target\n",
    "\n",
    "# Split dataset into training and testing\n",
    "X_train, X_test, y_train, y_test = train_test_split(X, y, test_size=0.3, random_state=42)\n",
    "\n",
    "# Train SVM Classifier\n",
    "svm = SVC(kernel='linear')\n",
    "svm.fit(X_train, y_train)\n",
    "\n",
    "# Make predictions\n",
    "y_pred = svm.predict(X_test)\n",
    "\n",
    "# Compute confusion matrix\n",
    "cm = confusion_matrix(y_test, y_pred)\n",
    "\n",
    "# Plot confusion matrix using seaborn\n",
    "sns.heatmap(cm, annot=True, fmt='d', cmap='Blues', xticklabels=iris.target_names, yticklabels=iris.target_names)\n",
    "plt.xlabel('Predicted')\n",
    "plt.ylabel('True')\n",
    "plt.title('Confusion Matrix')\n",
    "plt.show()\n"
   ]
  },
  {
   "cell_type": "code",
   "execution_count": 31,
   "id": "0b679aba-21f7-482b-b2c9-33d1a6850ad1",
   "metadata": {},
   "outputs": [
    {
     "name": "stdout",
     "output_type": "stream",
     "text": [
      "Mean Absolute Error: 0.30\n"
     ]
    }
   ],
   "source": [
    "#Q44: Train an SVM Regressor (SVR) and evaluate its performance using Mean Absolute Error (MAE) instead of MSE\n",
    "\n",
    "from sklearn.svm import SVR\n",
    "from sklearn.datasets import make_regression\n",
    "from sklearn.model_selection import train_test_split\n",
    "from sklearn.metrics import mean_absolute_error\n",
    "\n",
    "# Create a regression dataset\n",
    "X, y = make_regression(n_samples=100, n_features=1, noise=0.1, random_state=42)\n",
    "\n",
    "# Split dataset into training and testing\n",
    "X_train, X_test, y_train, y_test = train_test_split(X, y, test_size=0.3, random_state=42)\n",
    "\n",
    "# Train an SVM Regressor\n",
    "svr = SVR(kernel='linear')\n",
    "svr.fit(X_train, y_train)\n",
    "\n",
    "# Make predictions\n",
    "y_pred = svr.predict(X_test)\n",
    "\n",
    "# Evaluate performance using Mean Absolute Error\n",
    "mae = mean_absolute_error(y_test, y_pred)\n",
    "print(f'Mean Absolute Error: {mae:.2f}')\n"
   ]
  },
  {
   "cell_type": "code",
   "execution_count": 33,
   "id": "00387832-9ace-4705-8184-6f24463ba343",
   "metadata": {},
   "outputs": [
    {
     "name": "stdout",
     "output_type": "stream",
     "text": [
      "ROC-AUC score: 1.00\n"
     ]
    }
   ],
   "source": [
    "#Q45: Train a Naïve Bayes classifier and evaluate its performance using the ROC-AUC score\n",
    "\n",
    "from sklearn.naive_bayes import GaussianNB\n",
    "from sklearn.datasets import load_iris\n",
    "from sklearn.model_selection import train_test_split\n",
    "from sklearn.metrics import roc_auc_score\n",
    "from sklearn.preprocessing import LabelBinarizer\n",
    "\n",
    "# Load Iris dataset\n",
    "iris = load_iris()\n",
    "X = iris.data\n",
    "y = iris.target\n",
    "\n",
    "# Convert to binary classification for ROC-AUC (use only two classes)\n",
    "X = X[y != 2]\n",
    "y = y[y != 2]\n",
    "\n",
    "# Split dataset into training and testing\n",
    "X_train, X_test, y_train, y_test = train_test_split(X, y, test_size=0.3, random_state=42)\n",
    "\n",
    "# Train Naïve Bayes classifier\n",
    "nb = GaussianNB()\n",
    "nb.fit(X_train, y_train)\n",
    "\n",
    "# Predict probabilities for ROC-AUC calculation\n",
    "y_pred_prob = nb.predict_proba(X_test)[:, 1]\n",
    "\n",
    "# Calculate ROC-AUC score\n",
    "roc_auc = roc_auc_score(y_test, y_pred_prob)\n",
    "print(f'ROC-AUC score: {roc_auc:.2f}')\n"
   ]
  },
  {
   "cell_type": "code",
   "execution_count": 34,
   "id": "4ad114f2-8362-4c86-9bd2-65dbff9ab779",
   "metadata": {},
   "outputs": [
    {
     "data": {
      "image/png": "[encoded data removed]",
      "text/plain": [
       "<Figure size 640x480 with 1 Axes>"
      ]
     },
     "metadata": {},
     "output_type": "display_data"
    }
   ],
   "source": [
    "#Q46: Train an SVM Classifier and visualize the Precision-Recall Curve\n",
    "\n",
    "\n",
    "from sklearn.svm import SVC\n",
    "from sklearn.datasets import load_iris\n",
    "from sklearn.model_selection import train_test_split\n",
    "from sklearn.metrics import precision_recall_curve\n",
    "import matplotlib.pyplot as plt\n",
    "from sklearn.preprocessing import LabelBinarizer\n",
    "\n",
    "# Load Iris dataset\n",
    "iris = load_iris()\n",
    "X = iris.data\n",
    "y = iris.target\n",
    "\n",
    "# Convert to binary classification (use only two classes)\n",
    "X = X[y != 2]\n",
    "y = y[y != 2]\n",
    "\n",
    "# Split dataset into training and testing\n",
    "X_train, X_test, y_train, y_test = train_test_split(X, y, test_size=0.3, random_state=42)\n",
    "\n",
    "# Train an SVM Classifier\n",
    "svm = SVC(kernel='linear', probability=True)\n",
    "svm.fit(X_train, y_train)\n",
    "\n",
    "# Predict probabilities\n",
    "y_pred_prob = svm.predict_proba(X_test)[:, 1]\n",
    "\n",
    "# Compute Precision-Recall curve\n",
    "precision, recall, _ = precision_recall_curve(y_test, y_pred_prob)\n",
    "\n",
    "# Plot Precision-Recall curve\n",
    "plt.plot(recall, precision, color='b', label='SVM Classifier')\n",
    "plt.xlabel('Recall')\n",
    "plt.ylabel('Precision')\n",
    "plt.title('Precision-Recall Curve')\n",
    "plt.show()\n"
   ]
  },
  {
   "cell_type": "code",
   "execution_count": null,
   "id": "86779ecc-f6bf-4be5-810a-c96bc5d0e194",
   "metadata": {},
   "outputs": [],
   "source": []
  }
 ],
 "metadata": {
  "kernelspec": {
   "display_name": "Python 3 (ipykernel)",
   "language": "python",
   "name": "python3"
  },
  "language_info": {
   "codemirror_mode": {
    "name": "ipython",
    "version": 3
   },
   "file_extension": ".py",
   "mimetype": "text/x-python",
   "name": "python",
   "nbconvert_exporter": "python",
   "pygments_lexer": "ipython3",
   "version": "3.13.0"
  }
 },
 "nbformat": 4,
 "nbformat_minor": 5
}
