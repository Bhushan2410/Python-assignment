{
 "cells": [
  {
   "cell_type": "markdown",
   "id": "e9641159-7210-4233-9286-ac6c8ddda7d9",
   "metadata": {},
   "source": [
    "1.Can we use Bagging for regression problems?\n",
    "Yes, Bagging can be used for regression problems by employing base regressors like Decision Trees, leading to a Bagging Regressor."
   ]
  },
  {
   "cell_type": "markdown",
   "id": "5d251d7f-5dee-40f4-b4bd-274dc3c0e03a",
   "metadata": {},
   "source": [
    "2.What is the difference between multiple model training and single model training?\n",
    "Single model training involves training a single algorithm, whereas multiple model training (ensemble) combines\n",
    "multiple models to improve accuracy and reduce overfitting."
   ]
  },
  {
   "cell_type": "markdown",
   "id": "0efb1ee8-1385-4f81-baef-7b43c5b062c3",
   "metadata": {},
   "source": [
    "3.Explain the concept of feature randomness in Random Forest.\n",
    "Feature randomness refers to selecting a random subset of features at each split to ensure diversity among trees, improving generalization."
   ]
  },
  {
   "cell_type": "markdown",
   "id": "de0dea90-1176-49a6-bbcc-c873c88547f5",
   "metadata": {},
   "source": [
    "4.What is OOB (Out-of-Bag) Score?\n",
    "OOB Score is an internal validation score computed using samples not included in the bootstrap process of a Random Forest model."
   ]
  },
  {
   "cell_type": "markdown",
   "id": "2c91aba5-7a39-4348-98ef-99c371c2d5f1",
   "metadata": {},
   "source": [
    "5.How can you measure the importance of features in a Random Forest model?\n",
    "Feature importance can be measured using impurity-based metrics (Gini Importance) or permutation importance."
   ]
  },
  {
   "cell_type": "markdown",
   "id": "5f48c7de-94e8-4812-b098-813ddc7929c6",
   "metadata": {},
   "source": [
    "6.Explain the working principle of a Bagging Classifier.\n",
    "A Bagging Classifier trains multiple base classifiers on random subsets of data (with replacement) and averages their predictions."
   ]
  },
  {
   "cell_type": "markdown",
   "id": "95acf841-e2a3-4b65-89f4-372867ad4999",
   "metadata": {},
   "source": [
    "7.How do you evaluate a Bagging Classifier’s performance?\n",
    "It can be evaluated using metrics like accuracy, precision, recall, and F1-score."
   ]
  },
  {
   "cell_type": "markdown",
   "id": "c6447fb6-3d3c-47ea-a06c-59766cc369ea",
   "metadata": {},
   "source": [
    "8.How does a Bagging Regressor work?\n",
    "A Bagging Regressor aggregates predictions from multiple regressors trained on bootstrapped datasets."
   ]
  },
  {
   "cell_type": "markdown",
   "id": "719635b3-9329-4266-86ef-10bacfac4bf8",
   "metadata": {},
   "source": [
    "9.What is the main advantage of ensemble techniques?\n",
    "They improve accuracy, reduce overfitting, and enhance model stability."
   ]
  },
  {
   "cell_type": "markdown",
   "id": "4ef01b61-883c-44dc-ad01-560b23d0770c",
   "metadata": {},
   "source": [
    "10.What is the main challenge of ensemble methods?\n",
    "They can be computationally expensive and harder to interpret than single models."
   ]
  },
  {
   "cell_type": "markdown",
   "id": "0de69e92-8b44-493b-9b89-5c82ba808dd9",
   "metadata": {},
   "source": [
    "11.Explain the key idea behind ensemble techniques.\n",
    "The key idea is to combine multiple weak models to create a strong and robust predictive model."
   ]
  },
  {
   "cell_type": "markdown",
   "id": "99933603-0653-426a-bfd6-4fcd14034f17",
   "metadata": {},
   "source": [
    "12.What is a Random Forest Classifier?\n",
    "A Random Forest Classifier is an ensemble method using multiple Decision Trees trained on different subsets of data and features."
   ]
  },
  {
   "cell_type": "markdown",
   "id": "af0e2189-5868-4546-8fb7-e4d3af644443",
   "metadata": {},
   "source": [
    "13.What are the main types of ensemble techniques?\n",
    "Bagging, Boosting, and Stacking."
   ]
  },
  {
   "cell_type": "markdown",
   "id": "3057c558-35c5-47d6-9234-bd4ae786d458",
   "metadata": {},
   "source": [
    "14.What is ensemble learning in machine learning?\n",
    "It is a technique where multiple models are combined to produce a more accurate and stable prediction.\n",
    "\n"
   ]
  },
  {
   "cell_type": "markdown",
   "id": "1c8763d5-efbb-463d-acd6-d17648c4605f",
   "metadata": {},
   "source": [
    "15.When should we avoid using ensemble methods?\n",
    "When interpretability is crucial or when computational resources are limited."
   ]
  },
  {
   "cell_type": "markdown",
   "id": "3197e3a0-ff0f-4239-8fa4-0a6c66b3699d",
   "metadata": {},
   "source": [
    "16.How does Bagging help in reducing overfitting?\n",
    "By training multiple models on different samples and averaging their predictions, Bagging reduces variance."
   ]
  },
  {
   "cell_type": "markdown",
   "id": "2959f130-c2d0-4e4f-b42a-e182821ade5f",
   "metadata": {},
   "source": [
    "17.Why is Random Forest better than a single Decision Tree?\n",
    "It reduces overfitting and improves accuracy by averaging multiple decision trees."
   ]
  },
  {
   "cell_type": "markdown",
   "id": "3bacd580-786d-4190-87de-458870991a28",
   "metadata": {},
   "source": [
    "18.What is the role of bootstrap sampling in Bagging?\n",
    "Bootstrap sampling allows each model to train on slightly different data, increasing diversity and robustness."
   ]
  },
  {
   "cell_type": "markdown",
   "id": "cfc0c31b-27b5-41d9-87fe-15acc54dffdb",
   "metadata": {},
   "source": [
    "19.What are some real-world applications of ensemble techniques?\n",
    "Fraud detection, recommendation systems, medical diagnosis, and stock market predictions."
   ]
  },
  {
   "cell_type": "markdown",
   "id": "ccbac58a-167f-43be-9b42-1b35791fd078",
   "metadata": {},
   "source": [
    "20.What is the difference between Bagging and Boosting?\n",
    "Bagging trains models independently, while Boosting trains models sequentially, correcting previous errors."
   ]
  },
  {
   "cell_type": "code",
   "execution_count": null,
   "id": "34e8ed23-1c99-4a76-9522-7e1521aee684",
   "metadata": {},
   "outputs": [],
   "source": [
    "#Practical Questions"
   ]
  },
  {
   "cell_type": "code",
   "execution_count": 4,
   "id": "aad538b6-3601-4aa4-b1e8-f54e35e8d07c",
   "metadata": {},
   "outputs": [
    {
     "name": "stdout",
     "output_type": "stream",
     "text": [
      "Bagging Classifier Accuracy: 1.0\n"
     ]
    }
   ],
   "source": [
    "#21.Train a Bagging Classifier using Decision Trees on a sample dataset and print model accuracy.\n",
    "\n",
    "from sklearn.ensemble import BaggingClassifier\n",
    "from sklearn.tree import DecisionTreeClassifier\n",
    "from sklearn.model_selection import train_test_split\n",
    "from sklearn.datasets import load_iris\n",
    "from sklearn.metrics import accuracy_score\n",
    "\n",
    "# Load dataset\n",
    "iris = load_iris()\n",
    "X_train, X_test, y_train, y_test = train_test_split(iris.data, iris.target, test_size=0.2, random_state=42)\n",
    "\n",
    "# Train Bagging Classifier\n",
    "bag_clf = BaggingClassifier(estimator=DecisionTreeClassifier(), n_estimators=50)\n",
    "bag_clf.fit(X_train, y_train)\n",
    "y_pred_bag = bag_clf.predict(X_test)\n",
    "print(\"Bagging Classifier Accuracy:\", accuracy_score(y_test, y_pred_bag))"
   ]
  },
  {
   "cell_type": "code",
   "execution_count": 5,
   "id": "651eff97-8d1f-4bd8-b0f6-0ecc32c7d3c5",
   "metadata": {},
   "outputs": [
    {
     "name": "stdout",
     "output_type": "stream",
     "text": [
      "MSE: 0.25703678964328674\n"
     ]
    }
   ],
   "source": [
    "#22.Train a Bagging Regressor using Decision Trees and evaluate using Mean Squared Error (MSE).\n",
    "\n",
    "from sklearn.ensemble import BaggingRegressor\n",
    "from sklearn.tree import DecisionTreeRegressor\n",
    "from sklearn.metrics import mean_squared_error\n",
    "from sklearn.datasets import fetch_california_housing\n",
    "\n",
    "# Load dataset\n",
    "housing = fetch_california_housing()\n",
    "X_train_h, X_test_h, y_train_h, y_test_h = train_test_split(housing.data, housing.target, test_size=0.2, random_state=42)\n",
    "\n",
    "# Train Bagging Regressor\n",
    "bag_reg = BaggingRegressor(estimator=DecisionTreeRegressor(), n_estimators=50)\n",
    "bag_reg.fit(X_train_h, y_train_h)\n",
    "y_pred_bag = bag_reg.predict(X_test_h)\n",
    "print(\"MSE:\", mean_squared_error(y_test_h, y_pred_bag))"
   ]
  },
  {
   "cell_type": "code",
   "execution_count": 6,
   "id": "4ca67a8a-396e-40ab-bfe9-c831572d26ff",
   "metadata": {},
   "outputs": [
    {
     "name": "stdout",
     "output_type": "stream",
     "text": [
      "Feature Importances: [0.05395906 0.01192691 0.06177356 0.08599847 0.0082642  0.01259131\n",
      " 0.03986083 0.10059047 0.0029722  0.00422189 0.01280875 0.00345765\n",
      " 0.01263433 0.03719913 0.00333127 0.00559043 0.00994783 0.00456508\n",
      " 0.00401028 0.00502789 0.06953023 0.01814526 0.10356774 0.08852623\n",
      " 0.01675774 0.01399384 0.04831917 0.14485201 0.008222   0.00735423]\n"
     ]
    }
   ],
   "source": [
    "#23.Train a Random Forest Classifier on the Breast Cancer dataset and print feature importance scores.\n",
    "\n",
    "from sklearn.ensemble import RandomForestClassifier\n",
    "from sklearn.datasets import load_breast_cancer\n",
    "\n",
    "# Load dataset\n",
    "cancer = load_breast_cancer()\n",
    "X_c, y_c = cancer.data, cancer.target\n",
    "rf_clf = RandomForestClassifier()\n",
    "rf_clf.fit(X_c, y_c)\n",
    "print(\"Feature Importances:\", rf_clf.feature_importances_)"
   ]
  },
  {
   "cell_type": "code",
   "execution_count": 7,
   "id": "37b5ede4-fb25-43f6-b6c0-a19085505336",
   "metadata": {},
   "outputs": [
    {
     "name": "stdout",
     "output_type": "stream",
     "text": [
      "RF MSE: 0.2557060649630368\n",
      "DT MSE: 0.5051724975139049\n"
     ]
    }
   ],
   "source": [
    "#24.Train a Random Forest Regressor and compare its performance with a single Decision Tree.\n",
    "\n",
    "from sklearn.ensemble import RandomForestRegressor\n",
    "rf_reg = RandomForestRegressor()\n",
    "dt_reg = DecisionTreeRegressor()\n",
    "rf_reg.fit(X_train_h, y_train_h)\n",
    "dt_reg.fit(X_train_h, y_train_h)\n",
    "print(\"RF MSE:\", mean_squared_error(y_test_h, rf_reg.predict(X_test_h)))\n",
    "print(\"DT MSE:\", mean_squared_error(y_test_h, dt_reg.predict(X_test_h)))"
   ]
  },
  {
   "cell_type": "code",
   "execution_count": 8,
   "id": "1174c4fc-fa6c-4367-9426-33e7aefb2db4",
   "metadata": {},
   "outputs": [
    {
     "name": "stdout",
     "output_type": "stream",
     "text": [
      "OOB Score: 0.9333333333333333\n"
     ]
    }
   ],
   "source": [
    "#25.Compute the Out-of-Bag (OOB) Score for a Random Forest Classifier.\n",
    "rf_clf_oob = RandomForestClassifier(oob_score=True)\n",
    "rf_clf_oob.fit(X_train, y_train)\n",
    "print(\"OOB Score:\", rf_clf_oob.oob_score_)"
   ]
  },
  {
   "cell_type": "code",
   "execution_count": 11,
   "id": "9587befd-b915-4608-bc18-b4107edbdd7d",
   "metadata": {},
   "outputs": [
    {
     "name": "stdout",
     "output_type": "stream",
     "text": [
      "Bagging Classifier (SVM) Accuracy: 0.825\n"
     ]
    }
   ],
   "source": [
    "# Q26 - Train a Bagging Classifier using SVM as a base estimator and print accuracy\n",
    "from sklearn.svm import SVC\n",
    "from sklearn.ensemble import BaggingClassifier\n",
    "from sklearn.model_selection import train_test_split\n",
    "from sklearn.metrics import accuracy_score\n",
    "from sklearn.datasets import make_classification\n",
    "\n",
    "# Generate dataset\n",
    "X, y = make_classification(n_samples=1000, n_features=10, random_state=42)\n",
    "X_train, X_test, y_train, y_test = train_test_split(X, y, test_size=0.2, random_state=42)\n",
    "\n",
    "# ✅ FIX: Use 'estimator' instead of 'base_estimator'\n",
    "bagging_svm = BaggingClassifier(estimator=SVC(), n_estimators=10, random_state=42)\n",
    "bagging_svm.fit(X_train, y_train)\n",
    "\n",
    "# Predict and print accuracy\n",
    "print(\"Bagging Classifier (SVM) Accuracy:\", accuracy_score(y_test, bagging_svm.predict(X_test)))\n",
    "\n"
   ]
  },
  {
   "cell_type": "code",
   "execution_count": 2,
   "id": "4758059d-235c-4e81-a1a3-521185c5bf4c",
   "metadata": {},
   "outputs": [
    {
     "name": "stdout",
     "output_type": "stream",
     "text": [
      "Random Forest (10 trees) Accuracy: 0.865\n",
      "Random Forest (50 trees) Accuracy: 0.885\n",
      "Random Forest (100 trees) Accuracy: 0.88\n"
     ]
    }
   ],
   "source": [
    "# Q27 - Train a Random Forest Classifier with different numbers of trees and compare accuracy\n",
    "from sklearn.ensemble import RandomForestClassifier\n",
    "\n",
    "for n in [10, 50, 100]:  \n",
    "    rf = RandomForestClassifier(n_estimators=n, random_state=42)\n",
    "    rf.fit(X_train, y_train)\n",
    "    print(f\"Random Forest ({n} trees) Accuracy:\", accuracy_score(y_test, rf.predict(X_test)))\n"
   ]
  },
  {
   "cell_type": "code",
   "execution_count": 12,
   "id": "06f14ab6-96db-45ff-abae-a7f63f032157",
   "metadata": {},
   "outputs": [
    {
     "name": "stdout",
     "output_type": "stream",
     "text": [
      "Bagging (Logistic Regression) AUC Score: 0.911529507035125\n"
     ]
    }
   ],
   "source": [
    "# Q28 - Train a Bagging Classifier using Logistic Regression as a base estimator and print AUC score\n",
    "from sklearn.ensemble import BaggingClassifier\n",
    "from sklearn.linear_model import LogisticRegression\n",
    "from sklearn.model_selection import train_test_split\n",
    "from sklearn.metrics import roc_auc_score\n",
    "from sklearn.datasets import make_classification\n",
    "\n",
    "# Generate dataset\n",
    "X, y = make_classification(n_samples=1000, n_features=10, random_state=42)\n",
    "X_train, X_test, y_train, y_test = train_test_split(X, y, test_size=0.2, random_state=42)\n",
    "\n",
    "# ✅ FIX: Use 'estimator' instead of 'base_estimator'\n",
    "bagging_lr = BaggingClassifier(estimator=LogisticRegression(), n_estimators=10, random_state=42)\n",
    "bagging_lr.fit(X_train, y_train)\n",
    "\n",
    "# Predict probabilities & calculate AUC\n",
    "y_pred_proba = bagging_lr.predict_proba(X_test)[:, 1] \n",
    "print(\"Bagging (Logistic Regression) AUC Score:\", roc_auc_score(y_test, y_pred_proba))\n",
    "\n"
   ]
  },
  {
   "cell_type": "code",
   "execution_count": 4,
   "id": "2d10cc3b-e5c1-4991-b58c-6d373f272181",
   "metadata": {},
   "outputs": [
    {
     "name": "stdout",
     "output_type": "stream",
     "text": [
      "Feature Importances: [0.01770599 0.0292528  0.03386243 0.02141479 0.03214505 0.03135519\n",
      " 0.64330389 0.02144456 0.13794247 0.03157283]\n"
     ]
    }
   ],
   "source": [
    "# Q29 - Train a Random Forest Regressor and analyze feature importance scores\n",
    "from sklearn.ensemble import RandomForestRegressor\n",
    "\n",
    "rf_regressor = RandomForestRegressor(n_estimators=100, random_state=42)\n",
    "rf_regressor.fit(X_train, y_train)\n",
    "\n",
    "print(\"Feature Importances:\", rf_regressor.feature_importances_)\n"
   ]
  },
  {
   "cell_type": "code",
   "execution_count": 5,
   "id": "c823aeef-44e8-45e4-a1f7-d7b7d5057a33",
   "metadata": {},
   "outputs": [
    {
     "name": "stdout",
     "output_type": "stream",
     "text": [
      "Bagging Accuracy: 0.885\n",
      "Random Forest Accuracy: 0.885\n"
     ]
    }
   ],
   "source": [
    "# Q30 - Train an ensemble model using both Bagging and Random Forest and compare accuracy\n",
    "bagging = BaggingClassifier(n_estimators=10, random_state=42)\n",
    "random_forest = RandomForestClassifier(n_estimators=50, random_state=42)\n",
    "\n",
    "bagging.fit(X_train, y_train)\n",
    "random_forest.fit(X_train, y_train)\n",
    "\n",
    "print(\"Bagging Accuracy:\", accuracy_score(y_test, bagging.predict(X_test)))\n",
    "print(\"Random Forest Accuracy:\", accuracy_score(y_test, random_forest.predict(X_test)))\n"
   ]
  },
  {
   "cell_type": "code",
   "execution_count": 6,
   "id": "aab617d1-cd7f-4b86-a7bc-6bd344da764e",
   "metadata": {},
   "outputs": [
    {
     "name": "stdout",
     "output_type": "stream",
     "text": [
      "Best Random Forest Parameters: {'max_depth': None, 'n_estimators': 100}\n"
     ]
    }
   ],
   "source": [
    "# Q31 - Train a Random Forest Classifier and tune hyperparameters using GridSearchCV\n",
    "from sklearn.model_selection import GridSearchCV\n",
    "\n",
    "param_grid = {'n_estimators': [10, 50, 100], 'max_depth': [5, 10, None]}\n",
    "grid_search = GridSearchCV(RandomForestClassifier(), param_grid, cv=5)\n",
    "grid_search.fit(X_train, y_train)\n",
    "\n",
    "print(\"Best Random Forest Parameters:\", grid_search.best_params_)\n"
   ]
  },
  {
   "cell_type": "code",
   "execution_count": 7,
   "id": "dd7fff7f-81db-4224-910a-c523d54ace68",
   "metadata": {},
   "outputs": [
    {
     "name": "stdout",
     "output_type": "stream",
     "text": [
      "Bagging Regressor (10 estimators) MSE: 0.08575\n",
      "Bagging Regressor (50 estimators) MSE: 0.08449400000000001\n",
      "Bagging Regressor (100 estimators) MSE: 0.08527049999999999\n"
     ]
    }
   ],
   "source": [
    "# Q32 - Train a Bagging Regressor with different numbers of base estimators and compare performance\n",
    "from sklearn.ensemble import BaggingRegressor\n",
    "from sklearn.metrics import mean_squared_error\n",
    "\n",
    "for n in [10, 50, 100]:  \n",
    "    bag_reg = BaggingRegressor(n_estimators=n, random_state=42)\n",
    "    bag_reg.fit(X_train, y_train)\n",
    "    y_pred = bag_reg.predict(X_test)\n",
    "    print(f\"Bagging Regressor ({n} estimators) MSE:\", mean_squared_error(y_test, y_pred))\n"
   ]
  },
  {
   "cell_type": "code",
   "execution_count": 8,
   "id": "dfd4221b-f375-4fe0-ac33-ec6a88093f03",
   "metadata": {},
   "outputs": [
    {
     "name": "stdout",
     "output_type": "stream",
     "text": [
      "Misclassified samples: 23\n"
     ]
    }
   ],
   "source": [
    "# Q33 - Train a Random Forest Classifier and analyze misclassified samples\n",
    "rf = RandomForestClassifier(n_estimators=50, random_state=42)\n",
    "rf.fit(X_train, y_train)\n",
    "\n",
    "y_pred = rf.predict(X_test)\n",
    "misclassified = X_test[y_test != y_pred]\n",
    "print(\"Misclassified samples:\", len(misclassified))\n"
   ]
  },
  {
   "cell_type": "code",
   "execution_count": 9,
   "id": "839b8d84-8e40-4db9-aca0-930fd90788b9",
   "metadata": {},
   "outputs": [
    {
     "name": "stdout",
     "output_type": "stream",
     "text": [
      "Decision Tree Accuracy: 0.85\n",
      "Bagging Classifier Accuracy: 0.885\n"
     ]
    }
   ],
   "source": [
    "# Q34 - Train a Bagging Classifier and compare its performance with a single Decision Tree Classifier\n",
    "from sklearn.tree import DecisionTreeClassifier\n",
    "\n",
    "dt = DecisionTreeClassifier()\n",
    "dt.fit(X_train, y_train)\n",
    "dt_acc = accuracy_score(y_test, dt.predict(X_test))\n",
    "\n",
    "bagging = BaggingClassifier(n_estimators=10, random_state=42)\n",
    "bagging.fit(X_train, y_train)\n",
    "bagging_acc = accuracy_score(y_test, bagging.predict(X_test))\n",
    "\n",
    "print(\"Decision Tree Accuracy:\", dt_acc)\n",
    "print(\"Bagging Classifier Accuracy:\", bagging_acc)\n"
   ]
  },
  {
   "cell_type": "code",
   "execution_count": 10,
   "id": "4a0f9d6e-c012-4aca-8c39-16c3c2aef374",
   "metadata": {},
   "outputs": [
    {
     "data": {
      "image/png": "[encoded data removed]",
      "text/plain": [
       "<Figure size 640x480 with 2 Axes>"
      ]
     },
     "metadata": {},
     "output_type": "display_data"
    }
   ],
   "source": [
    "# Q35 - Train a Random Forest Classifier and visualize the confusion matrix\n",
    "from sklearn.metrics import confusion_matrix\n",
    "import seaborn as sns\n",
    "import matplotlib.pyplot as plt\n",
    "\n",
    "rf = RandomForestClassifier(n_estimators=50, random_state=42)\n",
    "rf.fit(X_train, y_train)\n",
    "\n",
    "y_pred = rf.predict(X_test)\n",
    "cm = confusion_matrix(y_test, y_pred)\n",
    "\n",
    "sns.heatmap(cm, annot=True, fmt=\"d\", cmap=\"Blues\")\n",
    "plt.title(\"Random Forest Confusion Matrix\")\n",
    "plt.show()\n"
   ]
  },
  {
   "cell_type": "code",
   "execution_count": 13,
   "id": "c6ddeb08-0786-46d8-a977-7505c24bd197",
   "metadata": {},
   "outputs": [
    {
     "name": "stdout",
     "output_type": "stream",
     "text": [
      "Stacking Classifier Accuracy: 0.865\n"
     ]
    }
   ],
   "source": [
    "# Q36 - Train a Stacking Classifier using Decision Trees, SVM, and Logistic Regression, and compare accuracy\n",
    "from sklearn.ensemble import StackingClassifier\n",
    "from sklearn.tree import DecisionTreeClassifier\n",
    "from sklearn.svm import SVC\n",
    "from sklearn.linear_model import LogisticRegression\n",
    "from sklearn.metrics import accuracy_score\n",
    "\n",
    "# Define base classifiers\n",
    "estimators = [\n",
    "    ('dt', DecisionTreeClassifier()),\n",
    "    ('svm', SVC(probability=True)),\n",
    "    ('lr', LogisticRegression())\n",
    "]\n",
    "\n",
    "# Define Stacking Classifier\n",
    "stacking = StackingClassifier(estimators=estimators, final_estimator=LogisticRegression())\n",
    "stacking.fit(X_train, y_train)\n",
    "\n",
    "# Predict and print accuracy\n",
    "print(\"Stacking Classifier Accuracy:\", accuracy_score(y_test, stacking.predict(X_test)))\n"
   ]
  },
  {
   "cell_type": "code",
   "execution_count": 14,
   "id": "e26c4d94-d2fe-46ec-8c9c-d589edcba3cb",
   "metadata": {},
   "outputs": [
    {
     "name": "stdout",
     "output_type": "stream",
     "text": [
      "Top 5 Important Features: [5 0 8 2 6]\n"
     ]
    }
   ],
   "source": [
    "# Q37 - Train a Random Forest Classifier and print the top 5 most important features\n",
    "import numpy as np\n",
    "from sklearn.ensemble import RandomForestClassifier\n",
    "\n",
    "rf = RandomForestClassifier(n_estimators=50, random_state=42)\n",
    "rf.fit(X_train, y_train)\n",
    "\n",
    "# Get top 5 features\n",
    "feature_importances = np.argsort(rf.feature_importances_)[-5:]\n",
    "print(\"Top 5 Important Features:\", feature_importances)\n"
   ]
  },
  {
   "cell_type": "code",
   "execution_count": 15,
   "id": "bea04d14-789f-4af2-af27-51ba764f1ca4",
   "metadata": {},
   "outputs": [
    {
     "name": "stdout",
     "output_type": "stream",
     "text": [
      "Precision: 0.8294829482948295\n",
      "Recall: 0.8334851705638222\n",
      "F1-score: 0.8293857888398234\n"
     ]
    }
   ],
   "source": [
    "# Q38 - Train a Bagging Classifier and evaluate performance using Precision, Recall, and F1-score\n",
    "from sklearn.metrics import precision_score, recall_score, f1_score\n",
    "\n",
    "y_pred = bagging_lr.predict(X_test)  # Using Logistic Regression-based Bagging Classifier\n",
    "\n",
    "print(\"Precision:\", precision_score(y_test, y_pred, average='macro'))\n",
    "print(\"Recall:\", recall_score(y_test, y_pred, average='macro'))\n",
    "print(\"F1-score:\", f1_score(y_test, y_pred, average='macro'))\n",
    "\n"
   ]
  },
  {
   "cell_type": "code",
   "execution_count": 16,
   "id": "243fb145-7683-4305-88b0-63971952dcdc",
   "metadata": {},
   "outputs": [
    {
     "name": "stdout",
     "output_type": "stream",
     "text": [
      "Random Forest (max_depth=3) Accuracy: 0.86\n",
      "Random Forest (max_depth=5) Accuracy: 0.875\n",
      "Random Forest (max_depth=10) Accuracy: 0.875\n",
      "Random Forest (max_depth=None) Accuracy: 0.885\n"
     ]
    }
   ],
   "source": [
    "# Q39 - Train a Random Forest Classifier and analyze the effect of max_depth on accuracy\n",
    "for depth in [3, 5, 10, None]:\n",
    "    rf = RandomForestClassifier(n_estimators=50, max_depth=depth, random_state=42)\n",
    "    rf.fit(X_train, y_train)\n",
    "    print(f\"Random Forest (max_depth={depth}) Accuracy:\", accuracy_score(y_test, rf.predict(X_test)))\n"
   ]
  },
  {
   "cell_type": "code",
   "execution_count": 17,
   "id": "8436814b-04a8-4aa9-93e2-7b8379194802",
   "metadata": {},
   "outputs": [
    {
     "name": "stdout",
     "output_type": "stream",
     "text": [
      "Decision Tree Bagging Regressor MSE: 0.08575\n",
      "KNN Regressor Bagging Regressor MSE: 0.137484\n"
     ]
    }
   ],
   "source": [
    "# Q40 - Train a Bagging Regressor using different base estimators (DecisionTree and KNeighbors) and compare performance\n",
    "from sklearn.ensemble import BaggingRegressor\n",
    "from sklearn.neighbors import KNeighborsRegressor\n",
    "from sklearn.metrics import mean_squared_error\n",
    "\n",
    "models = {\n",
    "    \"Decision Tree\": DecisionTreeClassifier(),\n",
    "    \"KNN Regressor\": KNeighborsRegressor()\n",
    "}\n",
    "\n",
    "for name, model in models.items():\n",
    "    bagging_reg = BaggingRegressor(estimator=model, n_estimators=10, random_state=42)\n",
    "    bagging_reg.fit(X_train, y_train)\n",
    "    y_pred = bagging_reg.predict(X_test)\n",
    "    print(f\"{name} Bagging Regressor MSE:\", mean_squared_error(y_test, y_pred))\n"
   ]
  },
  {
   "cell_type": "code",
   "execution_count": 18,
   "id": "bc9bbd21-8304-40d1-b78e-b87a15a3ca25",
   "metadata": {},
   "outputs": [
    {
     "name": "stdout",
     "output_type": "stream",
     "text": [
      "Random Forest ROC-AUC Score: 0.954803117724466\n"
     ]
    }
   ],
   "source": [
    "# Q41 - Train a Random Forest Classifier and evaluate its performance using ROC-AUC Score\n",
    "from sklearn.metrics import roc_auc_score\n",
    "\n",
    "rf = RandomForestClassifier(n_estimators=50, random_state=42)\n",
    "rf.fit(X_train, y_train)\n",
    "\n",
    "y_pred_proba = rf.predict_proba(X_test)[:, 1]\n",
    "print(\"Random Forest ROC-AUC Score:\", roc_auc_score(y_test, y_pred_proba))\n"
   ]
  },
  {
   "cell_type": "code",
   "execution_count": 19,
   "id": "578ecafa-da78-4274-b68d-df92bba227fe",
   "metadata": {},
   "outputs": [
    {
     "name": "stdout",
     "output_type": "stream",
     "text": [
      "Cross-validation Accuracy Scores: [0.91875 0.875   0.925   0.86875 0.9    ]\n",
      "Mean CV Accuracy: 0.8975\n"
     ]
    }
   ],
   "source": [
    "# Q42 - Train a Bagging Classifier and evaluate its performance using cross-validation\n",
    "from sklearn.model_selection import cross_val_score\n",
    "import numpy as np\n",
    "\n",
    "cv_scores = cross_val_score(BaggingClassifier(n_estimators=10, random_state=42), X_train, y_train, cv=5)\n",
    "print(\"Cross-validation Accuracy Scores:\", cv_scores)\n",
    "print(\"Mean CV Accuracy:\", np.mean(cv_scores))\n"
   ]
  },
  {
   "cell_type": "code",
   "execution_count": 20,
   "id": "c57ea01b-b742-45bf-940e-d04218aa62ad",
   "metadata": {},
   "outputs": [
    {
     "data": {
      "image/png": "[encoded data removed]",
      "text/plain": [
       "<Figure size 640x480 with 1 Axes>"
      ]
     },
     "metadata": {},
     "output_type": "display_data"
    }
   ],
   "source": [
    "# Q43 - Train a Random Forest Classifier and plot the Precision-Recall curve\n",
    "from sklearn.metrics import precision_recall_curve\n",
    "import matplotlib.pyplot as plt\n",
    "\n",
    "y_pred_proba = rf.predict_proba(X_test)[:, 1]\n",
    "precision, recall, _ = precision_recall_curve(y_test, y_pred_proba)\n",
    "\n",
    "plt.plot(recall, precision, marker='.')\n",
    "plt.xlabel(\"Recall\")\n",
    "plt.ylabel(\"Precision\")\n",
    "plt.title(\"Precision-Recall Curve\")\n",
    "plt.show()\n"
   ]
  },
  {
   "cell_type": "code",
   "execution_count": null,
   "id": "a0a6671b-01ef-400b-8b7d-637b7899e1d6",
   "metadata": {},
   "outputs": [],
   "source": [
    "# Q44 - Train a Stacking Classifier with Random Forest and Logistic Regression and compare accuracy\n",
    "stacking = StackingClassifier(estimators=[\n",
    "    ('rf', RandomForestClassifier(n_estimators=50)),\n",
    "    ('lr', LogisticRegression())\n",
    "], final_estimator=LogisticRegression())\n",
    "\n",
    "stacking.fit(X_train, y_train)\n",
    "print(\"Stacking Classifier (RF + LR) Accuracy:\", accuracy_score(y_test, stacking.predict(X_test)))\n"
   ]
  }
 ],
 "metadata": {
  "kernelspec": {
   "display_name": "Python 3 (ipykernel)",
   "language": "python",
   "name": "python3"
  },
  "language_info": {
   "codemirror_mode": {
    "name": "ipython",
    "version": 3
   },
   "file_extension": ".py",
   "mimetype": "text/x-python",
   "name": "python",
   "nbconvert_exporter": "python",
   "pygments_lexer": "ipython3",
   "version": "3.13.0"
  }
 },
 "nbformat": 4,
 "nbformat_minor": 5
}
